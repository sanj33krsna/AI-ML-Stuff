{
  "nbformat": 4,
  "nbformat_minor": 0,
  "metadata": {
    "colab": {
      "provenance": [],
      "collapsed_sections": [
        "5Bc_VY6cqdSk"
      ]
    },
    "kernelspec": {
      "name": "python3",
      "display_name": "Python 3"
    },
    "language_info": {
      "name": "python"
    },
    "accelerator": "GPU",
    "gpuClass": "standard"
  },
  "cells": [
    {
      "cell_type": "markdown",
      "source": [
        "# **Sales Prediction**\n",
        "---\n",
        "\n",
        "\n",
        "\n",
        "**Sales prediction using Big-Mart sales data**\n",
        "\n",
        "\n"
      ],
      "metadata": {
        "id": "yYH0CJvlj2z1"
      }
    },
    {
      "cell_type": "markdown",
      "source": [
        "### **Import the required modules**"
      ],
      "metadata": {
        "id": "I0x_uv7BkX5E"
      }
    },
    {
      "cell_type": "code",
      "execution_count": null,
      "metadata": {
        "id": "3NysyrPggiMK"
      },
      "outputs": [],
      "source": [
        "import pandas as pd\n",
        "import seaborn as sns\n",
        "import matplotlib.pyplot as plt\n",
        "import numpy as np\n",
        "import warnings\n",
        "from collections import Counter\n",
        "from sklearn.metrics import r2_score, mean_squared_error\n",
        "%matplotlib inline\n",
        "warnings.filterwarnings('ignore')"
      ]
    },
    {
      "cell_type": "markdown",
      "source": [
        "### **Loading the data and stastical analysis**"
      ],
      "metadata": {
        "id": "5Bc_VY6cqdSk"
      }
    },
    {
      "cell_type": "code",
      "source": [
        "df = pd.read_csv('SampleSuperstore.csv')\n",
        "df.head(20)"
      ],
      "metadata": {
        "colab": {
          "base_uri": "https://localhost:8080/"
        },
        "id": "6rLw-U52qD-v",
        "outputId": "9fa29a63-d319-476e-cf7e-ce110e252489"
      },
      "execution_count": null,
      "outputs": [
        {
          "output_type": "execute_result",
          "data": {
            "text/plain": [
              "         Ship Mode      Segment        Country             City  \\\n",
              "0     Second Class     Consumer  United States        Henderson   \n",
              "1     Second Class     Consumer  United States        Henderson   \n",
              "2     Second Class    Corporate  United States      Los Angeles   \n",
              "3   Standard Class     Consumer  United States  Fort Lauderdale   \n",
              "4   Standard Class     Consumer  United States  Fort Lauderdale   \n",
              "5   Standard Class     Consumer  United States      Los Angeles   \n",
              "6   Standard Class     Consumer  United States      Los Angeles   \n",
              "7   Standard Class     Consumer  United States      Los Angeles   \n",
              "8   Standard Class     Consumer  United States      Los Angeles   \n",
              "9   Standard Class     Consumer  United States      Los Angeles   \n",
              "10  Standard Class     Consumer  United States      Los Angeles   \n",
              "11  Standard Class     Consumer  United States      Los Angeles   \n",
              "12  Standard Class     Consumer  United States          Concord   \n",
              "13  Standard Class     Consumer  United States          Seattle   \n",
              "14  Standard Class  Home Office  United States       Fort Worth   \n",
              "15  Standard Class  Home Office  United States       Fort Worth   \n",
              "16  Standard Class     Consumer  United States          Madison   \n",
              "17    Second Class     Consumer  United States      West Jordan   \n",
              "18    Second Class     Consumer  United States    San Francisco   \n",
              "19    Second Class     Consumer  United States    San Francisco   \n",
              "\n",
              "             State  Postal Code   Region         Category Sub-Category  \\\n",
              "0         Kentucky        42420    South        Furniture    Bookcases   \n",
              "1         Kentucky        42420    South        Furniture       Chairs   \n",
              "2       California        90036     West  Office Supplies       Labels   \n",
              "3          Florida        33311    South        Furniture       Tables   \n",
              "4          Florida        33311    South  Office Supplies      Storage   \n",
              "5       California        90032     West        Furniture  Furnishings   \n",
              "6       California        90032     West  Office Supplies          Art   \n",
              "7       California        90032     West       Technology       Phones   \n",
              "8       California        90032     West  Office Supplies      Binders   \n",
              "9       California        90032     West  Office Supplies   Appliances   \n",
              "10      California        90032     West        Furniture       Tables   \n",
              "11      California        90032     West       Technology       Phones   \n",
              "12  North Carolina        28027    South  Office Supplies        Paper   \n",
              "13      Washington        98103     West  Office Supplies      Binders   \n",
              "14           Texas        76106  Central  Office Supplies   Appliances   \n",
              "15           Texas        76106  Central  Office Supplies      Binders   \n",
              "16       Wisconsin        53711  Central  Office Supplies      Storage   \n",
              "17            Utah        84084     West  Office Supplies      Storage   \n",
              "18      California        94109     West  Office Supplies          Art   \n",
              "19      California        94109     West       Technology       Phones   \n",
              "\n",
              "        Sales  Quantity  Discount    Profit  \n",
              "0    261.9600         2      0.00   41.9136  \n",
              "1    731.9400         3      0.00  219.5820  \n",
              "2     14.6200         2      0.00    6.8714  \n",
              "3    957.5775         5      0.45 -383.0310  \n",
              "4     22.3680         2      0.20    2.5164  \n",
              "5     48.8600         7      0.00   14.1694  \n",
              "6      7.2800         4      0.00    1.9656  \n",
              "7    907.1520         6      0.20   90.7152  \n",
              "8     18.5040         3      0.20    5.7825  \n",
              "9    114.9000         5      0.00   34.4700  \n",
              "10  1706.1840         9      0.20   85.3092  \n",
              "11   911.4240         4      0.20   68.3568  \n",
              "12    15.5520         3      0.20    5.4432  \n",
              "13   407.9760         3      0.20  132.5922  \n",
              "14    68.8100         5      0.80 -123.8580  \n",
              "15     2.5440         3      0.80   -3.8160  \n",
              "16   665.8800         6      0.00   13.3176  \n",
              "17    55.5000         2      0.00    9.9900  \n",
              "18     8.5600         2      0.00    2.4824  \n",
              "19   213.4800         3      0.20   16.0110  "
            ],
            "text/html": [
              "\n",
              "  <div id=\"df-dcffcd66-ab0a-451a-8b84-679bbb1b4f25\">\n",
              "    <div class=\"colab-df-container\">\n",
              "      <div>\n",
              "<style scoped>\n",
              "    .dataframe tbody tr th:only-of-type {\n",
              "        vertical-align: middle;\n",
              "    }\n",
              "\n",
              "    .dataframe tbody tr th {\n",
              "        vertical-align: top;\n",
              "    }\n",
              "\n",
              "    .dataframe thead th {\n",
              "        text-align: right;\n",
              "    }\n",
              "</style>\n",
              "<table border=\"1\" class=\"dataframe\">\n",
              "  <thead>\n",
              "    <tr style=\"text-align: right;\">\n",
              "      <th></th>\n",
              "      <th>Ship Mode</th>\n",
              "      <th>Segment</th>\n",
              "      <th>Country</th>\n",
              "      <th>City</th>\n",
              "      <th>State</th>\n",
              "      <th>Postal Code</th>\n",
              "      <th>Region</th>\n",
              "      <th>Category</th>\n",
              "      <th>Sub-Category</th>\n",
              "      <th>Sales</th>\n",
              "      <th>Quantity</th>\n",
              "      <th>Discount</th>\n",
              "      <th>Profit</th>\n",
              "    </tr>\n",
              "  </thead>\n",
              "  <tbody>\n",
              "    <tr>\n",
              "      <th>0</th>\n",
              "      <td>Second Class</td>\n",
              "      <td>Consumer</td>\n",
              "      <td>United States</td>\n",
              "      <td>Henderson</td>\n",
              "      <td>Kentucky</td>\n",
              "      <td>42420</td>\n",
              "      <td>South</td>\n",
              "      <td>Furniture</td>\n",
              "      <td>Bookcases</td>\n",
              "      <td>261.9600</td>\n",
              "      <td>2</td>\n",
              "      <td>0.00</td>\n",
              "      <td>41.9136</td>\n",
              "    </tr>\n",
              "    <tr>\n",
              "      <th>1</th>\n",
              "      <td>Second Class</td>\n",
              "      <td>Consumer</td>\n",
              "      <td>United States</td>\n",
              "      <td>Henderson</td>\n",
              "      <td>Kentucky</td>\n",
              "      <td>42420</td>\n",
              "      <td>South</td>\n",
              "      <td>Furniture</td>\n",
              "      <td>Chairs</td>\n",
              "      <td>731.9400</td>\n",
              "      <td>3</td>\n",
              "      <td>0.00</td>\n",
              "      <td>219.5820</td>\n",
              "    </tr>\n",
              "    <tr>\n",
              "      <th>2</th>\n",
              "      <td>Second Class</td>\n",
              "      <td>Corporate</td>\n",
              "      <td>United States</td>\n",
              "      <td>Los Angeles</td>\n",
              "      <td>California</td>\n",
              "      <td>90036</td>\n",
              "      <td>West</td>\n",
              "      <td>Office Supplies</td>\n",
              "      <td>Labels</td>\n",
              "      <td>14.6200</td>\n",
              "      <td>2</td>\n",
              "      <td>0.00</td>\n",
              "      <td>6.8714</td>\n",
              "    </tr>\n",
              "    <tr>\n",
              "      <th>3</th>\n",
              "      <td>Standard Class</td>\n",
              "      <td>Consumer</td>\n",
              "      <td>United States</td>\n",
              "      <td>Fort Lauderdale</td>\n",
              "      <td>Florida</td>\n",
              "      <td>33311</td>\n",
              "      <td>South</td>\n",
              "      <td>Furniture</td>\n",
              "      <td>Tables</td>\n",
              "      <td>957.5775</td>\n",
              "      <td>5</td>\n",
              "      <td>0.45</td>\n",
              "      <td>-383.0310</td>\n",
              "    </tr>\n",
              "    <tr>\n",
              "      <th>4</th>\n",
              "      <td>Standard Class</td>\n",
              "      <td>Consumer</td>\n",
              "      <td>United States</td>\n",
              "      <td>Fort Lauderdale</td>\n",
              "      <td>Florida</td>\n",
              "      <td>33311</td>\n",
              "      <td>South</td>\n",
              "      <td>Office Supplies</td>\n",
              "      <td>Storage</td>\n",
              "      <td>22.3680</td>\n",
              "      <td>2</td>\n",
              "      <td>0.20</td>\n",
              "      <td>2.5164</td>\n",
              "    </tr>\n",
              "    <tr>\n",
              "      <th>5</th>\n",
              "      <td>Standard Class</td>\n",
              "      <td>Consumer</td>\n",
              "      <td>United States</td>\n",
              "      <td>Los Angeles</td>\n",
              "      <td>California</td>\n",
              "      <td>90032</td>\n",
              "      <td>West</td>\n",
              "      <td>Furniture</td>\n",
              "      <td>Furnishings</td>\n",
              "      <td>48.8600</td>\n",
              "      <td>7</td>\n",
              "      <td>0.00</td>\n",
              "      <td>14.1694</td>\n",
              "    </tr>\n",
              "    <tr>\n",
              "      <th>6</th>\n",
              "      <td>Standard Class</td>\n",
              "      <td>Consumer</td>\n",
              "      <td>United States</td>\n",
              "      <td>Los Angeles</td>\n",
              "      <td>California</td>\n",
              "      <td>90032</td>\n",
              "      <td>West</td>\n",
              "      <td>Office Supplies</td>\n",
              "      <td>Art</td>\n",
              "      <td>7.2800</td>\n",
              "      <td>4</td>\n",
              "      <td>0.00</td>\n",
              "      <td>1.9656</td>\n",
              "    </tr>\n",
              "    <tr>\n",
              "      <th>7</th>\n",
              "      <td>Standard Class</td>\n",
              "      <td>Consumer</td>\n",
              "      <td>United States</td>\n",
              "      <td>Los Angeles</td>\n",
              "      <td>California</td>\n",
              "      <td>90032</td>\n",
              "      <td>West</td>\n",
              "      <td>Technology</td>\n",
              "      <td>Phones</td>\n",
              "      <td>907.1520</td>\n",
              "      <td>6</td>\n",
              "      <td>0.20</td>\n",
              "      <td>90.7152</td>\n",
              "    </tr>\n",
              "    <tr>\n",
              "      <th>8</th>\n",
              "      <td>Standard Class</td>\n",
              "      <td>Consumer</td>\n",
              "      <td>United States</td>\n",
              "      <td>Los Angeles</td>\n",
              "      <td>California</td>\n",
              "      <td>90032</td>\n",
              "      <td>West</td>\n",
              "      <td>Office Supplies</td>\n",
              "      <td>Binders</td>\n",
              "      <td>18.5040</td>\n",
              "      <td>3</td>\n",
              "      <td>0.20</td>\n",
              "      <td>5.7825</td>\n",
              "    </tr>\n",
              "    <tr>\n",
              "      <th>9</th>\n",
              "      <td>Standard Class</td>\n",
              "      <td>Consumer</td>\n",
              "      <td>United States</td>\n",
              "      <td>Los Angeles</td>\n",
              "      <td>California</td>\n",
              "      <td>90032</td>\n",
              "      <td>West</td>\n",
              "      <td>Office Supplies</td>\n",
              "      <td>Appliances</td>\n",
              "      <td>114.9000</td>\n",
              "      <td>5</td>\n",
              "      <td>0.00</td>\n",
              "      <td>34.4700</td>\n",
              "    </tr>\n",
              "    <tr>\n",
              "      <th>10</th>\n",
              "      <td>Standard Class</td>\n",
              "      <td>Consumer</td>\n",
              "      <td>United States</td>\n",
              "      <td>Los Angeles</td>\n",
              "      <td>California</td>\n",
              "      <td>90032</td>\n",
              "      <td>West</td>\n",
              "      <td>Furniture</td>\n",
              "      <td>Tables</td>\n",
              "      <td>1706.1840</td>\n",
              "      <td>9</td>\n",
              "      <td>0.20</td>\n",
              "      <td>85.3092</td>\n",
              "    </tr>\n",
              "    <tr>\n",
              "      <th>11</th>\n",
              "      <td>Standard Class</td>\n",
              "      <td>Consumer</td>\n",
              "      <td>United States</td>\n",
              "      <td>Los Angeles</td>\n",
              "      <td>California</td>\n",
              "      <td>90032</td>\n",
              "      <td>West</td>\n",
              "      <td>Technology</td>\n",
              "      <td>Phones</td>\n",
              "      <td>911.4240</td>\n",
              "      <td>4</td>\n",
              "      <td>0.20</td>\n",
              "      <td>68.3568</td>\n",
              "    </tr>\n",
              "    <tr>\n",
              "      <th>12</th>\n",
              "      <td>Standard Class</td>\n",
              "      <td>Consumer</td>\n",
              "      <td>United States</td>\n",
              "      <td>Concord</td>\n",
              "      <td>North Carolina</td>\n",
              "      <td>28027</td>\n",
              "      <td>South</td>\n",
              "      <td>Office Supplies</td>\n",
              "      <td>Paper</td>\n",
              "      <td>15.5520</td>\n",
              "      <td>3</td>\n",
              "      <td>0.20</td>\n",
              "      <td>5.4432</td>\n",
              "    </tr>\n",
              "    <tr>\n",
              "      <th>13</th>\n",
              "      <td>Standard Class</td>\n",
              "      <td>Consumer</td>\n",
              "      <td>United States</td>\n",
              "      <td>Seattle</td>\n",
              "      <td>Washington</td>\n",
              "      <td>98103</td>\n",
              "      <td>West</td>\n",
              "      <td>Office Supplies</td>\n",
              "      <td>Binders</td>\n",
              "      <td>407.9760</td>\n",
              "      <td>3</td>\n",
              "      <td>0.20</td>\n",
              "      <td>132.5922</td>\n",
              "    </tr>\n",
              "    <tr>\n",
              "      <th>14</th>\n",
              "      <td>Standard Class</td>\n",
              "      <td>Home Office</td>\n",
              "      <td>United States</td>\n",
              "      <td>Fort Worth</td>\n",
              "      <td>Texas</td>\n",
              "      <td>76106</td>\n",
              "      <td>Central</td>\n",
              "      <td>Office Supplies</td>\n",
              "      <td>Appliances</td>\n",
              "      <td>68.8100</td>\n",
              "      <td>5</td>\n",
              "      <td>0.80</td>\n",
              "      <td>-123.8580</td>\n",
              "    </tr>\n",
              "    <tr>\n",
              "      <th>15</th>\n",
              "      <td>Standard Class</td>\n",
              "      <td>Home Office</td>\n",
              "      <td>United States</td>\n",
              "      <td>Fort Worth</td>\n",
              "      <td>Texas</td>\n",
              "      <td>76106</td>\n",
              "      <td>Central</td>\n",
              "      <td>Office Supplies</td>\n",
              "      <td>Binders</td>\n",
              "      <td>2.5440</td>\n",
              "      <td>3</td>\n",
              "      <td>0.80</td>\n",
              "      <td>-3.8160</td>\n",
              "    </tr>\n",
              "    <tr>\n",
              "      <th>16</th>\n",
              "      <td>Standard Class</td>\n",
              "      <td>Consumer</td>\n",
              "      <td>United States</td>\n",
              "      <td>Madison</td>\n",
              "      <td>Wisconsin</td>\n",
              "      <td>53711</td>\n",
              "      <td>Central</td>\n",
              "      <td>Office Supplies</td>\n",
              "      <td>Storage</td>\n",
              "      <td>665.8800</td>\n",
              "      <td>6</td>\n",
              "      <td>0.00</td>\n",
              "      <td>13.3176</td>\n",
              "    </tr>\n",
              "    <tr>\n",
              "      <th>17</th>\n",
              "      <td>Second Class</td>\n",
              "      <td>Consumer</td>\n",
              "      <td>United States</td>\n",
              "      <td>West Jordan</td>\n",
              "      <td>Utah</td>\n",
              "      <td>84084</td>\n",
              "      <td>West</td>\n",
              "      <td>Office Supplies</td>\n",
              "      <td>Storage</td>\n",
              "      <td>55.5000</td>\n",
              "      <td>2</td>\n",
              "      <td>0.00</td>\n",
              "      <td>9.9900</td>\n",
              "    </tr>\n",
              "    <tr>\n",
              "      <th>18</th>\n",
              "      <td>Second Class</td>\n",
              "      <td>Consumer</td>\n",
              "      <td>United States</td>\n",
              "      <td>San Francisco</td>\n",
              "      <td>California</td>\n",
              "      <td>94109</td>\n",
              "      <td>West</td>\n",
              "      <td>Office Supplies</td>\n",
              "      <td>Art</td>\n",
              "      <td>8.5600</td>\n",
              "      <td>2</td>\n",
              "      <td>0.00</td>\n",
              "      <td>2.4824</td>\n",
              "    </tr>\n",
              "    <tr>\n",
              "      <th>19</th>\n",
              "      <td>Second Class</td>\n",
              "      <td>Consumer</td>\n",
              "      <td>United States</td>\n",
              "      <td>San Francisco</td>\n",
              "      <td>California</td>\n",
              "      <td>94109</td>\n",
              "      <td>West</td>\n",
              "      <td>Technology</td>\n",
              "      <td>Phones</td>\n",
              "      <td>213.4800</td>\n",
              "      <td>3</td>\n",
              "      <td>0.20</td>\n",
              "      <td>16.0110</td>\n",
              "    </tr>\n",
              "  </tbody>\n",
              "</table>\n",
              "</div>\n",
              "      <button class=\"colab-df-convert\" onclick=\"convertToInteractive('df-dcffcd66-ab0a-451a-8b84-679bbb1b4f25')\"\n",
              "              title=\"Convert this dataframe to an interactive table.\"\n",
              "              style=\"display:none;\">\n",
              "        \n",
              "  <svg xmlns=\"http://www.w3.org/2000/svg\" height=\"24px\"viewBox=\"0 0 24 24\"\n",
              "       width=\"24px\">\n",
              "    <path d=\"M0 0h24v24H0V0z\" fill=\"none\"/>\n",
              "    <path d=\"M18.56 5.44l.94 2.06.94-2.06 2.06-.94-2.06-.94-.94-2.06-.94 2.06-2.06.94zm-11 1L8.5 8.5l.94-2.06 2.06-.94-2.06-.94L8.5 2.5l-.94 2.06-2.06.94zm10 10l.94 2.06.94-2.06 2.06-.94-2.06-.94-.94-2.06-.94 2.06-2.06.94z\"/><path d=\"M17.41 7.96l-1.37-1.37c-.4-.4-.92-.59-1.43-.59-.52 0-1.04.2-1.43.59L10.3 9.45l-7.72 7.72c-.78.78-.78 2.05 0 2.83L4 21.41c.39.39.9.59 1.41.59.51 0 1.02-.2 1.41-.59l7.78-7.78 2.81-2.81c.8-.78.8-2.07 0-2.86zM5.41 20L4 18.59l7.72-7.72 1.47 1.35L5.41 20z\"/>\n",
              "  </svg>\n",
              "      </button>\n",
              "      \n",
              "  <style>\n",
              "    .colab-df-container {\n",
              "      display:flex;\n",
              "      flex-wrap:wrap;\n",
              "      gap: 12px;\n",
              "    }\n",
              "\n",
              "    .colab-df-convert {\n",
              "      background-color: #E8F0FE;\n",
              "      border: none;\n",
              "      border-radius: 50%;\n",
              "      cursor: pointer;\n",
              "      display: none;\n",
              "      fill: #1967D2;\n",
              "      height: 32px;\n",
              "      padding: 0 0 0 0;\n",
              "      width: 32px;\n",
              "    }\n",
              "\n",
              "    .colab-df-convert:hover {\n",
              "      background-color: #E2EBFA;\n",
              "      box-shadow: 0px 1px 2px rgba(60, 64, 67, 0.3), 0px 1px 3px 1px rgba(60, 64, 67, 0.15);\n",
              "      fill: #174EA6;\n",
              "    }\n",
              "\n",
              "    [theme=dark] .colab-df-convert {\n",
              "      background-color: #3B4455;\n",
              "      fill: #D2E3FC;\n",
              "    }\n",
              "\n",
              "    [theme=dark] .colab-df-convert:hover {\n",
              "      background-color: #434B5C;\n",
              "      box-shadow: 0px 1px 3px 1px rgba(0, 0, 0, 0.15);\n",
              "      filter: drop-shadow(0px 1px 2px rgba(0, 0, 0, 0.3));\n",
              "      fill: #FFFFFF;\n",
              "    }\n",
              "  </style>\n",
              "\n",
              "      <script>\n",
              "        const buttonEl =\n",
              "          document.querySelector('#df-dcffcd66-ab0a-451a-8b84-679bbb1b4f25 button.colab-df-convert');\n",
              "        buttonEl.style.display =\n",
              "          google.colab.kernel.accessAllowed ? 'block' : 'none';\n",
              "\n",
              "        async function convertToInteractive(key) {\n",
              "          const element = document.querySelector('#df-dcffcd66-ab0a-451a-8b84-679bbb1b4f25');\n",
              "          const dataTable =\n",
              "            await google.colab.kernel.invokeFunction('convertToInteractive',\n",
              "                                                     [key], {});\n",
              "          if (!dataTable) return;\n",
              "\n",
              "          const docLinkHtml = 'Like what you see? Visit the ' +\n",
              "            '<a target=\"_blank\" href=https://colab.research.google.com/notebooks/data_table.ipynb>data table notebook</a>'\n",
              "            + ' to learn more about interactive tables.';\n",
              "          element.innerHTML = '';\n",
              "          dataTable['output_type'] = 'display_data';\n",
              "          await google.colab.output.renderOutput(dataTable, element);\n",
              "          const docLink = document.createElement('div');\n",
              "          docLink.innerHTML = docLinkHtml;\n",
              "          element.appendChild(docLink);\n",
              "        }\n",
              "      </script>\n",
              "    </div>\n",
              "  </div>\n",
              "  "
            ]
          },
          "metadata": {},
          "execution_count": 2
        }
      ]
    },
    {
      "cell_type": "code",
      "source": [
        "#Statistical info\n",
        "df.describe()"
      ],
      "metadata": {
        "id": "eymUxzjNqiJM",
        "colab": {
          "base_uri": "https://localhost:8080/"
        },
        "outputId": "275ab776-37db-4d74-d079-d6009c63fc91"
      },
      "execution_count": null,
      "outputs": [
        {
          "output_type": "execute_result",
          "data": {
            "text/plain": [
              "        Postal Code         Sales     Quantity     Discount       Profit\n",
              "count   9994.000000   9994.000000  9994.000000  9994.000000  9994.000000\n",
              "mean   55190.379428    229.858001     3.789574     0.156203    28.656896\n",
              "std    32063.693350    623.245101     2.225110     0.206452   234.260108\n",
              "min     1040.000000      0.444000     1.000000     0.000000 -6599.978000\n",
              "25%    23223.000000     17.280000     2.000000     0.000000     1.728750\n",
              "50%    56430.500000     54.490000     3.000000     0.200000     8.666500\n",
              "75%    90008.000000    209.940000     5.000000     0.200000    29.364000\n",
              "max    99301.000000  22638.480000    14.000000     0.800000  8399.976000"
            ],
            "text/html": [
              "\n",
              "  <div id=\"df-e32b466a-d6c9-4ca6-8a26-b03cda003271\">\n",
              "    <div class=\"colab-df-container\">\n",
              "      <div>\n",
              "<style scoped>\n",
              "    .dataframe tbody tr th:only-of-type {\n",
              "        vertical-align: middle;\n",
              "    }\n",
              "\n",
              "    .dataframe tbody tr th {\n",
              "        vertical-align: top;\n",
              "    }\n",
              "\n",
              "    .dataframe thead th {\n",
              "        text-align: right;\n",
              "    }\n",
              "</style>\n",
              "<table border=\"1\" class=\"dataframe\">\n",
              "  <thead>\n",
              "    <tr style=\"text-align: right;\">\n",
              "      <th></th>\n",
              "      <th>Postal Code</th>\n",
              "      <th>Sales</th>\n",
              "      <th>Quantity</th>\n",
              "      <th>Discount</th>\n",
              "      <th>Profit</th>\n",
              "    </tr>\n",
              "  </thead>\n",
              "  <tbody>\n",
              "    <tr>\n",
              "      <th>count</th>\n",
              "      <td>9994.000000</td>\n",
              "      <td>9994.000000</td>\n",
              "      <td>9994.000000</td>\n",
              "      <td>9994.000000</td>\n",
              "      <td>9994.000000</td>\n",
              "    </tr>\n",
              "    <tr>\n",
              "      <th>mean</th>\n",
              "      <td>55190.379428</td>\n",
              "      <td>229.858001</td>\n",
              "      <td>3.789574</td>\n",
              "      <td>0.156203</td>\n",
              "      <td>28.656896</td>\n",
              "    </tr>\n",
              "    <tr>\n",
              "      <th>std</th>\n",
              "      <td>32063.693350</td>\n",
              "      <td>623.245101</td>\n",
              "      <td>2.225110</td>\n",
              "      <td>0.206452</td>\n",
              "      <td>234.260108</td>\n",
              "    </tr>\n",
              "    <tr>\n",
              "      <th>min</th>\n",
              "      <td>1040.000000</td>\n",
              "      <td>0.444000</td>\n",
              "      <td>1.000000</td>\n",
              "      <td>0.000000</td>\n",
              "      <td>-6599.978000</td>\n",
              "    </tr>\n",
              "    <tr>\n",
              "      <th>25%</th>\n",
              "      <td>23223.000000</td>\n",
              "      <td>17.280000</td>\n",
              "      <td>2.000000</td>\n",
              "      <td>0.000000</td>\n",
              "      <td>1.728750</td>\n",
              "    </tr>\n",
              "    <tr>\n",
              "      <th>50%</th>\n",
              "      <td>56430.500000</td>\n",
              "      <td>54.490000</td>\n",
              "      <td>3.000000</td>\n",
              "      <td>0.200000</td>\n",
              "      <td>8.666500</td>\n",
              "    </tr>\n",
              "    <tr>\n",
              "      <th>75%</th>\n",
              "      <td>90008.000000</td>\n",
              "      <td>209.940000</td>\n",
              "      <td>5.000000</td>\n",
              "      <td>0.200000</td>\n",
              "      <td>29.364000</td>\n",
              "    </tr>\n",
              "    <tr>\n",
              "      <th>max</th>\n",
              "      <td>99301.000000</td>\n",
              "      <td>22638.480000</td>\n",
              "      <td>14.000000</td>\n",
              "      <td>0.800000</td>\n",
              "      <td>8399.976000</td>\n",
              "    </tr>\n",
              "  </tbody>\n",
              "</table>\n",
              "</div>\n",
              "      <button class=\"colab-df-convert\" onclick=\"convertToInteractive('df-e32b466a-d6c9-4ca6-8a26-b03cda003271')\"\n",
              "              title=\"Convert this dataframe to an interactive table.\"\n",
              "              style=\"display:none;\">\n",
              "        \n",
              "  <svg xmlns=\"http://www.w3.org/2000/svg\" height=\"24px\"viewBox=\"0 0 24 24\"\n",
              "       width=\"24px\">\n",
              "    <path d=\"M0 0h24v24H0V0z\" fill=\"none\"/>\n",
              "    <path d=\"M18.56 5.44l.94 2.06.94-2.06 2.06-.94-2.06-.94-.94-2.06-.94 2.06-2.06.94zm-11 1L8.5 8.5l.94-2.06 2.06-.94-2.06-.94L8.5 2.5l-.94 2.06-2.06.94zm10 10l.94 2.06.94-2.06 2.06-.94-2.06-.94-.94-2.06-.94 2.06-2.06.94z\"/><path d=\"M17.41 7.96l-1.37-1.37c-.4-.4-.92-.59-1.43-.59-.52 0-1.04.2-1.43.59L10.3 9.45l-7.72 7.72c-.78.78-.78 2.05 0 2.83L4 21.41c.39.39.9.59 1.41.59.51 0 1.02-.2 1.41-.59l7.78-7.78 2.81-2.81c.8-.78.8-2.07 0-2.86zM5.41 20L4 18.59l7.72-7.72 1.47 1.35L5.41 20z\"/>\n",
              "  </svg>\n",
              "      </button>\n",
              "      \n",
              "  <style>\n",
              "    .colab-df-container {\n",
              "      display:flex;\n",
              "      flex-wrap:wrap;\n",
              "      gap: 12px;\n",
              "    }\n",
              "\n",
              "    .colab-df-convert {\n",
              "      background-color: #E8F0FE;\n",
              "      border: none;\n",
              "      border-radius: 50%;\n",
              "      cursor: pointer;\n",
              "      display: none;\n",
              "      fill: #1967D2;\n",
              "      height: 32px;\n",
              "      padding: 0 0 0 0;\n",
              "      width: 32px;\n",
              "    }\n",
              "\n",
              "    .colab-df-convert:hover {\n",
              "      background-color: #E2EBFA;\n",
              "      box-shadow: 0px 1px 2px rgba(60, 64, 67, 0.3), 0px 1px 3px 1px rgba(60, 64, 67, 0.15);\n",
              "      fill: #174EA6;\n",
              "    }\n",
              "\n",
              "    [theme=dark] .colab-df-convert {\n",
              "      background-color: #3B4455;\n",
              "      fill: #D2E3FC;\n",
              "    }\n",
              "\n",
              "    [theme=dark] .colab-df-convert:hover {\n",
              "      background-color: #434B5C;\n",
              "      box-shadow: 0px 1px 3px 1px rgba(0, 0, 0, 0.15);\n",
              "      filter: drop-shadow(0px 1px 2px rgba(0, 0, 0, 0.3));\n",
              "      fill: #FFFFFF;\n",
              "    }\n",
              "  </style>\n",
              "\n",
              "      <script>\n",
              "        const buttonEl =\n",
              "          document.querySelector('#df-e32b466a-d6c9-4ca6-8a26-b03cda003271 button.colab-df-convert');\n",
              "        buttonEl.style.display =\n",
              "          google.colab.kernel.accessAllowed ? 'block' : 'none';\n",
              "\n",
              "        async function convertToInteractive(key) {\n",
              "          const element = document.querySelector('#df-e32b466a-d6c9-4ca6-8a26-b03cda003271');\n",
              "          const dataTable =\n",
              "            await google.colab.kernel.invokeFunction('convertToInteractive',\n",
              "                                                     [key], {});\n",
              "          if (!dataTable) return;\n",
              "\n",
              "          const docLinkHtml = 'Like what you see? Visit the ' +\n",
              "            '<a target=\"_blank\" href=https://colab.research.google.com/notebooks/data_table.ipynb>data table notebook</a>'\n",
              "            + ' to learn more about interactive tables.';\n",
              "          element.innerHTML = '';\n",
              "          dataTable['output_type'] = 'display_data';\n",
              "          await google.colab.output.renderOutput(dataTable, element);\n",
              "          const docLink = document.createElement('div');\n",
              "          docLink.innerHTML = docLinkHtml;\n",
              "          element.appendChild(docLink);\n",
              "        }\n",
              "      </script>\n",
              "    </div>\n",
              "  </div>\n",
              "  "
            ]
          },
          "metadata": {},
          "execution_count": 3
        }
      ]
    },
    {
      "cell_type": "code",
      "source": [
        "#Datatype attributes\n",
        "df.info()"
      ],
      "metadata": {
        "id": "PPKhRyL_qk5A",
        "colab": {
          "base_uri": "https://localhost:8080/"
        },
        "outputId": "02351d44-bf62-499b-9081-0deedc82fe0f"
      },
      "execution_count": null,
      "outputs": [
        {
          "output_type": "stream",
          "name": "stdout",
          "text": [
            "<class 'pandas.core.frame.DataFrame'>\n",
            "RangeIndex: 9994 entries, 0 to 9993\n",
            "Data columns (total 13 columns):\n",
            " #   Column        Non-Null Count  Dtype  \n",
            "---  ------        --------------  -----  \n",
            " 0   Ship Mode     9994 non-null   object \n",
            " 1   Segment       9994 non-null   object \n",
            " 2   Country       9994 non-null   object \n",
            " 3   City          9994 non-null   object \n",
            " 4   State         9994 non-null   object \n",
            " 5   Postal Code   9994 non-null   int64  \n",
            " 6   Region        9994 non-null   object \n",
            " 7   Category      9994 non-null   object \n",
            " 8   Sub-Category  9994 non-null   object \n",
            " 9   Sales         9994 non-null   float64\n",
            " 10  Quantity      9994 non-null   int64  \n",
            " 11  Discount      9994 non-null   float64\n",
            " 12  Profit        9994 non-null   float64\n",
            "dtypes: float64(3), int64(2), object(8)\n",
            "memory usage: 1015.1+ KB\n"
          ]
        }
      ]
    },
    {
      "cell_type": "code",
      "source": [
        "#Unique values\n",
        "df.apply(lambda x: len(x.unique()))"
      ],
      "metadata": {
        "id": "bYvKJqwrqqHE",
        "colab": {
          "base_uri": "https://localhost:8080/"
        },
        "outputId": "06d92825-5606-46a4-8ec2-0f6211aefe57"
      },
      "execution_count": null,
      "outputs": [
        {
          "output_type": "execute_result",
          "data": {
            "text/plain": [
              "Ship Mode          4\n",
              "Segment            3\n",
              "Country            1\n",
              "City             531\n",
              "State             49\n",
              "Postal Code      631\n",
              "Region             4\n",
              "Category           3\n",
              "Sub-Category      17\n",
              "Sales           5825\n",
              "Quantity          14\n",
              "Discount          12\n",
              "Profit          7287\n",
              "dtype: int64"
            ]
          },
          "metadata": {},
          "execution_count": 5
        }
      ]
    },
    {
      "cell_type": "markdown",
      "source": [
        "###**Adjusting the Data-Frame**"
      ],
      "metadata": {
        "id": "AkWWSdb7uiPr"
      }
    },
    {
      "cell_type": "markdown",
      "source": [
        "Removing unwanted attributes such as Postal code , country as it serves no purpose for our sales prediction."
      ],
      "metadata": {
        "id": "vnKlv4zlpFaK"
      }
    },
    {
      "cell_type": "code",
      "source": [
        "df = df.drop(['Postal Code','Country'],axis=1)"
      ],
      "metadata": {
        "id": "yV7NKDz7pOZ7"
      },
      "execution_count": null,
      "outputs": []
    },
    {
      "cell_type": "code",
      "source": [
        "df = df.rename(columns = {'Ship Mode':'Ship_Mode'})\n",
        "df = df.rename(columns = {'Sub-Category':'Sub_Category'})\n"
      ],
      "metadata": {
        "id": "auE8VOAYkOZW"
      },
      "execution_count": null,
      "outputs": []
    },
    {
      "cell_type": "code",
      "source": [
        "#Categorical attributes\n",
        "cat_col = []\n",
        "for x in df.dtypes.index:\n",
        "  if df.dtypes[x] == 'object':\n",
        "    cat_col.append(x)\n",
        "cat_col"
      ],
      "metadata": {
        "colab": {
          "base_uri": "https://localhost:8080/"
        },
        "id": "0R3Z6tXqyYGS",
        "outputId": "417ee9f7-0297-4fe5-cc8d-09738c9a633c"
      },
      "execution_count": null,
      "outputs": [
        {
          "output_type": "execute_result",
          "data": {
            "text/plain": [
              "['Ship_Mode', 'Segment', 'City', 'State', 'Region', 'Category', 'Sub_Category']"
            ]
          },
          "metadata": {},
          "execution_count": 8
        }
      ]
    },
    {
      "cell_type": "code",
      "source": [
        "#printing the columns data:\n",
        "for col in cat_col:\n",
        "    print(col)\n",
        "    print(df[col].value_counts())\n",
        "    print()"
      ],
      "metadata": {
        "colab": {
          "base_uri": "https://localhost:8080/"
        },
        "id": "fa3P6CTgqX_O",
        "outputId": "e20afa96-c5b1-4cf6-8d20-a94fd7fde86d"
      },
      "execution_count": null,
      "outputs": [
        {
          "output_type": "stream",
          "name": "stdout",
          "text": [
            "Ship_Mode\n",
            "Standard Class    5968\n",
            "Second Class      1945\n",
            "First Class       1538\n",
            "Same Day           543\n",
            "Name: Ship_Mode, dtype: int64\n",
            "\n",
            "Segment\n",
            "Consumer       5191\n",
            "Corporate      3020\n",
            "Home Office    1783\n",
            "Name: Segment, dtype: int64\n",
            "\n",
            "City\n",
            "New York City      915\n",
            "Los Angeles        747\n",
            "Philadelphia       537\n",
            "San Francisco      510\n",
            "Seattle            428\n",
            "                  ... \n",
            "Glenview             1\n",
            "Missouri City        1\n",
            "Rochester Hills      1\n",
            "Palatine             1\n",
            "Manhattan            1\n",
            "Name: City, Length: 531, dtype: int64\n",
            "\n",
            "State\n",
            "California              2001\n",
            "New York                1128\n",
            "Texas                    985\n",
            "Pennsylvania             587\n",
            "Washington               506\n",
            "Illinois                 492\n",
            "Ohio                     469\n",
            "Florida                  383\n",
            "Michigan                 255\n",
            "North Carolina           249\n",
            "Arizona                  224\n",
            "Virginia                 224\n",
            "Georgia                  184\n",
            "Tennessee                183\n",
            "Colorado                 182\n",
            "Indiana                  149\n",
            "Kentucky                 139\n",
            "Massachusetts            135\n",
            "New Jersey               130\n",
            "Oregon                   124\n",
            "Wisconsin                110\n",
            "Maryland                 105\n",
            "Delaware                  96\n",
            "Minnesota                 89\n",
            "Connecticut               82\n",
            "Oklahoma                  66\n",
            "Missouri                  66\n",
            "Alabama                   61\n",
            "Arkansas                  60\n",
            "Rhode Island              56\n",
            "Utah                      53\n",
            "Mississippi               53\n",
            "Louisiana                 42\n",
            "South Carolina            42\n",
            "Nevada                    39\n",
            "Nebraska                  38\n",
            "New Mexico                37\n",
            "Iowa                      30\n",
            "New Hampshire             27\n",
            "Kansas                    24\n",
            "Idaho                     21\n",
            "Montana                   15\n",
            "South Dakota              12\n",
            "Vermont                   11\n",
            "District of Columbia      10\n",
            "Maine                      8\n",
            "North Dakota               7\n",
            "West Virginia              4\n",
            "Wyoming                    1\n",
            "Name: State, dtype: int64\n",
            "\n",
            "Region\n",
            "West       3203\n",
            "East       2848\n",
            "Central    2323\n",
            "South      1620\n",
            "Name: Region, dtype: int64\n",
            "\n",
            "Category\n",
            "Office Supplies    6026\n",
            "Furniture          2121\n",
            "Technology         1847\n",
            "Name: Category, dtype: int64\n",
            "\n",
            "Sub_Category\n",
            "Binders        1523\n",
            "Paper          1370\n",
            "Furnishings     957\n",
            "Phones          889\n",
            "Storage         846\n",
            "Art             796\n",
            "Accessories     775\n",
            "Chairs          617\n",
            "Appliances      466\n",
            "Labels          364\n",
            "Tables          319\n",
            "Envelopes       254\n",
            "Bookcases       228\n",
            "Fasteners       217\n",
            "Supplies        190\n",
            "Machines        115\n",
            "Copiers          68\n",
            "Name: Sub_Category, dtype: int64\n",
            "\n"
          ]
        }
      ]
    },
    {
      "cell_type": "code",
      "source": [
        "df.head()"
      ],
      "metadata": {
        "id": "adQh_uKVzbm6",
        "colab": {
          "base_uri": "https://localhost:8080/"
        },
        "outputId": "59a8754e-aa0c-4e29-b082-5786a619b274"
      },
      "execution_count": null,
      "outputs": [
        {
          "output_type": "execute_result",
          "data": {
            "text/plain": [
              "        Ship_Mode    Segment             City       State Region  \\\n",
              "0    Second Class   Consumer        Henderson    Kentucky  South   \n",
              "1    Second Class   Consumer        Henderson    Kentucky  South   \n",
              "2    Second Class  Corporate      Los Angeles  California   West   \n",
              "3  Standard Class   Consumer  Fort Lauderdale     Florida  South   \n",
              "4  Standard Class   Consumer  Fort Lauderdale     Florida  South   \n",
              "\n",
              "          Category Sub_Category     Sales  Quantity  Discount    Profit  \n",
              "0        Furniture    Bookcases  261.9600         2      0.00   41.9136  \n",
              "1        Furniture       Chairs  731.9400         3      0.00  219.5820  \n",
              "2  Office Supplies       Labels   14.6200         2      0.00    6.8714  \n",
              "3        Furniture       Tables  957.5775         5      0.45 -383.0310  \n",
              "4  Office Supplies      Storage   22.3680         2      0.20    2.5164  "
            ],
            "text/html": [
              "\n",
              "  <div id=\"df-fd99104f-8634-43d9-8d88-a918790d9345\">\n",
              "    <div class=\"colab-df-container\">\n",
              "      <div>\n",
              "<style scoped>\n",
              "    .dataframe tbody tr th:only-of-type {\n",
              "        vertical-align: middle;\n",
              "    }\n",
              "\n",
              "    .dataframe tbody tr th {\n",
              "        vertical-align: top;\n",
              "    }\n",
              "\n",
              "    .dataframe thead th {\n",
              "        text-align: right;\n",
              "    }\n",
              "</style>\n",
              "<table border=\"1\" class=\"dataframe\">\n",
              "  <thead>\n",
              "    <tr style=\"text-align: right;\">\n",
              "      <th></th>\n",
              "      <th>Ship_Mode</th>\n",
              "      <th>Segment</th>\n",
              "      <th>City</th>\n",
              "      <th>State</th>\n",
              "      <th>Region</th>\n",
              "      <th>Category</th>\n",
              "      <th>Sub_Category</th>\n",
              "      <th>Sales</th>\n",
              "      <th>Quantity</th>\n",
              "      <th>Discount</th>\n",
              "      <th>Profit</th>\n",
              "    </tr>\n",
              "  </thead>\n",
              "  <tbody>\n",
              "    <tr>\n",
              "      <th>0</th>\n",
              "      <td>Second Class</td>\n",
              "      <td>Consumer</td>\n",
              "      <td>Henderson</td>\n",
              "      <td>Kentucky</td>\n",
              "      <td>South</td>\n",
              "      <td>Furniture</td>\n",
              "      <td>Bookcases</td>\n",
              "      <td>261.9600</td>\n",
              "      <td>2</td>\n",
              "      <td>0.00</td>\n",
              "      <td>41.9136</td>\n",
              "    </tr>\n",
              "    <tr>\n",
              "      <th>1</th>\n",
              "      <td>Second Class</td>\n",
              "      <td>Consumer</td>\n",
              "      <td>Henderson</td>\n",
              "      <td>Kentucky</td>\n",
              "      <td>South</td>\n",
              "      <td>Furniture</td>\n",
              "      <td>Chairs</td>\n",
              "      <td>731.9400</td>\n",
              "      <td>3</td>\n",
              "      <td>0.00</td>\n",
              "      <td>219.5820</td>\n",
              "    </tr>\n",
              "    <tr>\n",
              "      <th>2</th>\n",
              "      <td>Second Class</td>\n",
              "      <td>Corporate</td>\n",
              "      <td>Los Angeles</td>\n",
              "      <td>California</td>\n",
              "      <td>West</td>\n",
              "      <td>Office Supplies</td>\n",
              "      <td>Labels</td>\n",
              "      <td>14.6200</td>\n",
              "      <td>2</td>\n",
              "      <td>0.00</td>\n",
              "      <td>6.8714</td>\n",
              "    </tr>\n",
              "    <tr>\n",
              "      <th>3</th>\n",
              "      <td>Standard Class</td>\n",
              "      <td>Consumer</td>\n",
              "      <td>Fort Lauderdale</td>\n",
              "      <td>Florida</td>\n",
              "      <td>South</td>\n",
              "      <td>Furniture</td>\n",
              "      <td>Tables</td>\n",
              "      <td>957.5775</td>\n",
              "      <td>5</td>\n",
              "      <td>0.45</td>\n",
              "      <td>-383.0310</td>\n",
              "    </tr>\n",
              "    <tr>\n",
              "      <th>4</th>\n",
              "      <td>Standard Class</td>\n",
              "      <td>Consumer</td>\n",
              "      <td>Fort Lauderdale</td>\n",
              "      <td>Florida</td>\n",
              "      <td>South</td>\n",
              "      <td>Office Supplies</td>\n",
              "      <td>Storage</td>\n",
              "      <td>22.3680</td>\n",
              "      <td>2</td>\n",
              "      <td>0.20</td>\n",
              "      <td>2.5164</td>\n",
              "    </tr>\n",
              "  </tbody>\n",
              "</table>\n",
              "</div>\n",
              "      <button class=\"colab-df-convert\" onclick=\"convertToInteractive('df-fd99104f-8634-43d9-8d88-a918790d9345')\"\n",
              "              title=\"Convert this dataframe to an interactive table.\"\n",
              "              style=\"display:none;\">\n",
              "        \n",
              "  <svg xmlns=\"http://www.w3.org/2000/svg\" height=\"24px\"viewBox=\"0 0 24 24\"\n",
              "       width=\"24px\">\n",
              "    <path d=\"M0 0h24v24H0V0z\" fill=\"none\"/>\n",
              "    <path d=\"M18.56 5.44l.94 2.06.94-2.06 2.06-.94-2.06-.94-.94-2.06-.94 2.06-2.06.94zm-11 1L8.5 8.5l.94-2.06 2.06-.94-2.06-.94L8.5 2.5l-.94 2.06-2.06.94zm10 10l.94 2.06.94-2.06 2.06-.94-2.06-.94-.94-2.06-.94 2.06-2.06.94z\"/><path d=\"M17.41 7.96l-1.37-1.37c-.4-.4-.92-.59-1.43-.59-.52 0-1.04.2-1.43.59L10.3 9.45l-7.72 7.72c-.78.78-.78 2.05 0 2.83L4 21.41c.39.39.9.59 1.41.59.51 0 1.02-.2 1.41-.59l7.78-7.78 2.81-2.81c.8-.78.8-2.07 0-2.86zM5.41 20L4 18.59l7.72-7.72 1.47 1.35L5.41 20z\"/>\n",
              "  </svg>\n",
              "      </button>\n",
              "      \n",
              "  <style>\n",
              "    .colab-df-container {\n",
              "      display:flex;\n",
              "      flex-wrap:wrap;\n",
              "      gap: 12px;\n",
              "    }\n",
              "\n",
              "    .colab-df-convert {\n",
              "      background-color: #E8F0FE;\n",
              "      border: none;\n",
              "      border-radius: 50%;\n",
              "      cursor: pointer;\n",
              "      display: none;\n",
              "      fill: #1967D2;\n",
              "      height: 32px;\n",
              "      padding: 0 0 0 0;\n",
              "      width: 32px;\n",
              "    }\n",
              "\n",
              "    .colab-df-convert:hover {\n",
              "      background-color: #E2EBFA;\n",
              "      box-shadow: 0px 1px 2px rgba(60, 64, 67, 0.3), 0px 1px 3px 1px rgba(60, 64, 67, 0.15);\n",
              "      fill: #174EA6;\n",
              "    }\n",
              "\n",
              "    [theme=dark] .colab-df-convert {\n",
              "      background-color: #3B4455;\n",
              "      fill: #D2E3FC;\n",
              "    }\n",
              "\n",
              "    [theme=dark] .colab-df-convert:hover {\n",
              "      background-color: #434B5C;\n",
              "      box-shadow: 0px 1px 3px 1px rgba(0, 0, 0, 0.15);\n",
              "      filter: drop-shadow(0px 1px 2px rgba(0, 0, 0, 0.3));\n",
              "      fill: #FFFFFF;\n",
              "    }\n",
              "  </style>\n",
              "\n",
              "      <script>\n",
              "        const buttonEl =\n",
              "          document.querySelector('#df-fd99104f-8634-43d9-8d88-a918790d9345 button.colab-df-convert');\n",
              "        buttonEl.style.display =\n",
              "          google.colab.kernel.accessAllowed ? 'block' : 'none';\n",
              "\n",
              "        async function convertToInteractive(key) {\n",
              "          const element = document.querySelector('#df-fd99104f-8634-43d9-8d88-a918790d9345');\n",
              "          const dataTable =\n",
              "            await google.colab.kernel.invokeFunction('convertToInteractive',\n",
              "                                                     [key], {});\n",
              "          if (!dataTable) return;\n",
              "\n",
              "          const docLinkHtml = 'Like what you see? Visit the ' +\n",
              "            '<a target=\"_blank\" href=https://colab.research.google.com/notebooks/data_table.ipynb>data table notebook</a>'\n",
              "            + ' to learn more about interactive tables.';\n",
              "          element.innerHTML = '';\n",
              "          dataTable['output_type'] = 'display_data';\n",
              "          await google.colab.output.renderOutput(dataTable, element);\n",
              "          const docLink = document.createElement('div');\n",
              "          docLink.innerHTML = docLinkHtml;\n",
              "          element.appendChild(docLink);\n",
              "        }\n",
              "      </script>\n",
              "    </div>\n",
              "  </div>\n",
              "  "
            ]
          },
          "metadata": {},
          "execution_count": 10
        }
      ]
    },
    {
      "cell_type": "markdown",
      "source": [
        "We will be working with the above table for Data Visualization and Explanatory Data Analysis"
      ],
      "metadata": {
        "id": "MxfcBp6pb2XZ"
      }
    },
    {
      "cell_type": "markdown",
      "source": [
        "### **Data Visualization**"
      ],
      "metadata": {
        "id": "Q7D1MKEUH80Y"
      }
    },
    {
      "cell_type": "markdown",
      "source": [
        "**Correlation between data**"
      ],
      "metadata": {
        "id": "yRTixrIYxTZ0"
      }
    },
    {
      "cell_type": "code",
      "source": [
        "df.corr()"
      ],
      "metadata": {
        "id": "SLOzJucyIB-m",
        "colab": {
          "base_uri": "https://localhost:8080/"
        },
        "outputId": "07036fa1-cf93-49e5-f4c8-6bb6c70de034"
      },
      "execution_count": null,
      "outputs": [
        {
          "output_type": "execute_result",
          "data": {
            "text/plain": [
              "             Sales  Quantity  Discount    Profit\n",
              "Sales     1.000000  0.200795 -0.028190  0.479064\n",
              "Quantity  0.200795  1.000000  0.008623  0.066253\n",
              "Discount -0.028190  0.008623  1.000000 -0.219487\n",
              "Profit    0.479064  0.066253 -0.219487  1.000000"
            ],
            "text/html": [
              "\n",
              "  <div id=\"df-74c21b6a-b7b3-4a3d-8208-f6e11fc2894d\">\n",
              "    <div class=\"colab-df-container\">\n",
              "      <div>\n",
              "<style scoped>\n",
              "    .dataframe tbody tr th:only-of-type {\n",
              "        vertical-align: middle;\n",
              "    }\n",
              "\n",
              "    .dataframe tbody tr th {\n",
              "        vertical-align: top;\n",
              "    }\n",
              "\n",
              "    .dataframe thead th {\n",
              "        text-align: right;\n",
              "    }\n",
              "</style>\n",
              "<table border=\"1\" class=\"dataframe\">\n",
              "  <thead>\n",
              "    <tr style=\"text-align: right;\">\n",
              "      <th></th>\n",
              "      <th>Sales</th>\n",
              "      <th>Quantity</th>\n",
              "      <th>Discount</th>\n",
              "      <th>Profit</th>\n",
              "    </tr>\n",
              "  </thead>\n",
              "  <tbody>\n",
              "    <tr>\n",
              "      <th>Sales</th>\n",
              "      <td>1.000000</td>\n",
              "      <td>0.200795</td>\n",
              "      <td>-0.028190</td>\n",
              "      <td>0.479064</td>\n",
              "    </tr>\n",
              "    <tr>\n",
              "      <th>Quantity</th>\n",
              "      <td>0.200795</td>\n",
              "      <td>1.000000</td>\n",
              "      <td>0.008623</td>\n",
              "      <td>0.066253</td>\n",
              "    </tr>\n",
              "    <tr>\n",
              "      <th>Discount</th>\n",
              "      <td>-0.028190</td>\n",
              "      <td>0.008623</td>\n",
              "      <td>1.000000</td>\n",
              "      <td>-0.219487</td>\n",
              "    </tr>\n",
              "    <tr>\n",
              "      <th>Profit</th>\n",
              "      <td>0.479064</td>\n",
              "      <td>0.066253</td>\n",
              "      <td>-0.219487</td>\n",
              "      <td>1.000000</td>\n",
              "    </tr>\n",
              "  </tbody>\n",
              "</table>\n",
              "</div>\n",
              "      <button class=\"colab-df-convert\" onclick=\"convertToInteractive('df-74c21b6a-b7b3-4a3d-8208-f6e11fc2894d')\"\n",
              "              title=\"Convert this dataframe to an interactive table.\"\n",
              "              style=\"display:none;\">\n",
              "        \n",
              "  <svg xmlns=\"http://www.w3.org/2000/svg\" height=\"24px\"viewBox=\"0 0 24 24\"\n",
              "       width=\"24px\">\n",
              "    <path d=\"M0 0h24v24H0V0z\" fill=\"none\"/>\n",
              "    <path d=\"M18.56 5.44l.94 2.06.94-2.06 2.06-.94-2.06-.94-.94-2.06-.94 2.06-2.06.94zm-11 1L8.5 8.5l.94-2.06 2.06-.94-2.06-.94L8.5 2.5l-.94 2.06-2.06.94zm10 10l.94 2.06.94-2.06 2.06-.94-2.06-.94-.94-2.06-.94 2.06-2.06.94z\"/><path d=\"M17.41 7.96l-1.37-1.37c-.4-.4-.92-.59-1.43-.59-.52 0-1.04.2-1.43.59L10.3 9.45l-7.72 7.72c-.78.78-.78 2.05 0 2.83L4 21.41c.39.39.9.59 1.41.59.51 0 1.02-.2 1.41-.59l7.78-7.78 2.81-2.81c.8-.78.8-2.07 0-2.86zM5.41 20L4 18.59l7.72-7.72 1.47 1.35L5.41 20z\"/>\n",
              "  </svg>\n",
              "      </button>\n",
              "      \n",
              "  <style>\n",
              "    .colab-df-container {\n",
              "      display:flex;\n",
              "      flex-wrap:wrap;\n",
              "      gap: 12px;\n",
              "    }\n",
              "\n",
              "    .colab-df-convert {\n",
              "      background-color: #E8F0FE;\n",
              "      border: none;\n",
              "      border-radius: 50%;\n",
              "      cursor: pointer;\n",
              "      display: none;\n",
              "      fill: #1967D2;\n",
              "      height: 32px;\n",
              "      padding: 0 0 0 0;\n",
              "      width: 32px;\n",
              "    }\n",
              "\n",
              "    .colab-df-convert:hover {\n",
              "      background-color: #E2EBFA;\n",
              "      box-shadow: 0px 1px 2px rgba(60, 64, 67, 0.3), 0px 1px 3px 1px rgba(60, 64, 67, 0.15);\n",
              "      fill: #174EA6;\n",
              "    }\n",
              "\n",
              "    [theme=dark] .colab-df-convert {\n",
              "      background-color: #3B4455;\n",
              "      fill: #D2E3FC;\n",
              "    }\n",
              "\n",
              "    [theme=dark] .colab-df-convert:hover {\n",
              "      background-color: #434B5C;\n",
              "      box-shadow: 0px 1px 3px 1px rgba(0, 0, 0, 0.15);\n",
              "      filter: drop-shadow(0px 1px 2px rgba(0, 0, 0, 0.3));\n",
              "      fill: #FFFFFF;\n",
              "    }\n",
              "  </style>\n",
              "\n",
              "      <script>\n",
              "        const buttonEl =\n",
              "          document.querySelector('#df-74c21b6a-b7b3-4a3d-8208-f6e11fc2894d button.colab-df-convert');\n",
              "        buttonEl.style.display =\n",
              "          google.colab.kernel.accessAllowed ? 'block' : 'none';\n",
              "\n",
              "        async function convertToInteractive(key) {\n",
              "          const element = document.querySelector('#df-74c21b6a-b7b3-4a3d-8208-f6e11fc2894d');\n",
              "          const dataTable =\n",
              "            await google.colab.kernel.invokeFunction('convertToInteractive',\n",
              "                                                     [key], {});\n",
              "          if (!dataTable) return;\n",
              "\n",
              "          const docLinkHtml = 'Like what you see? Visit the ' +\n",
              "            '<a target=\"_blank\" href=https://colab.research.google.com/notebooks/data_table.ipynb>data table notebook</a>'\n",
              "            + ' to learn more about interactive tables.';\n",
              "          element.innerHTML = '';\n",
              "          dataTable['output_type'] = 'display_data';\n",
              "          await google.colab.output.renderOutput(dataTable, element);\n",
              "          const docLink = document.createElement('div');\n",
              "          docLink.innerHTML = docLinkHtml;\n",
              "          element.appendChild(docLink);\n",
              "        }\n",
              "      </script>\n",
              "    </div>\n",
              "  </div>\n",
              "  "
            ]
          },
          "metadata": {},
          "execution_count": 11
        }
      ]
    },
    {
      "cell_type": "code",
      "source": [
        "sns.heatmap(df.corr(), annot=True)"
      ],
      "metadata": {
        "id": "FiaO2F96JKLm",
        "colab": {
          "base_uri": "https://localhost:8080/"
        },
        "outputId": "b78b42a1-3878-4256-f25d-4ecd4a227d80"
      },
      "execution_count": null,
      "outputs": [
        {
          "output_type": "execute_result",
          "data": {
            "text/plain": [
              "<matplotlib.axes._subplots.AxesSubplot at 0x7fb890fe5f70>"
            ]
          },
          "metadata": {},
          "execution_count": 12
        },
        {
          "output_type": "display_data",
          "data": {
            "text/plain": [
              "<Figure size 432x288 with 2 Axes>"
            ],
            "image/png": "[encoded data removed]"
          },
          "metadata": {
            "needs_background": "light"
          }
        }
      ]
    },
    {
      "cell_type": "markdown",
      "source": [
        "**Explanatory Data Analysis**"
      ],
      "metadata": {
        "id": "qBsTnICOy-5m"
      }
    },
    {
      "cell_type": "code",
      "source": [
        "df[\"Ship_Mode\"].value_counts()"
      ],
      "metadata": {
        "colab": {
          "base_uri": "https://localhost:8080/"
        },
        "id": "QCXNqMTbyIEX",
        "outputId": "e31d5d2e-714c-4fd0-d992-8acee8190518"
      },
      "execution_count": null,
      "outputs": [
        {
          "output_type": "execute_result",
          "data": {
            "text/plain": [
              "Standard Class    5968\n",
              "Second Class      1945\n",
              "First Class       1538\n",
              "Same Day           543\n",
              "Name: Ship_Mode, dtype: int64"
            ]
          },
          "metadata": {},
          "execution_count": 13
        }
      ]
    },
    {
      "cell_type": "code",
      "source": [
        "sns.countplot(x= df['Ship_Mode'])"
      ],
      "metadata": {
        "id": "kP9-jgcgIvtZ",
        "colab": {
          "base_uri": "https://localhost:8080/"
        },
        "outputId": "779f5eb7-c831-4a0b-d215-1415626b2e63"
      },
      "execution_count": null,
      "outputs": [
        {
          "output_type": "execute_result",
          "data": {
            "text/plain": [
              "<matplotlib.axes._subplots.AxesSubplot at 0x7fb88e631ee0>"
            ]
          },
          "metadata": {},
          "execution_count": 14
        },
        {
          "output_type": "display_data",
          "data": {
            "text/plain": [
              "<Figure size 432x288 with 1 Axes>"
            ],
            "image/png": "[encoded data removed]"
          },
          "metadata": {
            "needs_background": "light"
          }
        }
      ]
    },
    {
      "cell_type": "code",
      "source": [
        "df[\"Segment\"].value_counts()"
      ],
      "metadata": {
        "id": "SV-F3aZoJQLo",
        "colab": {
          "base_uri": "https://localhost:8080/"
        },
        "outputId": "ea66fb3e-fe40-4147-8eb9-e540b470d713"
      },
      "execution_count": null,
      "outputs": [
        {
          "output_type": "execute_result",
          "data": {
            "text/plain": [
              "Consumer       5191\n",
              "Corporate      3020\n",
              "Home Office    1783\n",
              "Name: Segment, dtype: int64"
            ]
          },
          "metadata": {},
          "execution_count": 15
        }
      ]
    },
    {
      "cell_type": "code",
      "source": [
        "sns.countplot(x= df['Segment'])"
      ],
      "metadata": {
        "id": "Xnheia6qJcCj",
        "colab": {
          "base_uri": "https://localhost:8080/"
        },
        "outputId": "5b81ed18-54bb-46bf-d2e5-4d3cdff58a90"
      },
      "execution_count": null,
      "outputs": [
        {
          "output_type": "execute_result",
          "data": {
            "text/plain": [
              "<matplotlib.axes._subplots.AxesSubplot at 0x7fb88e151310>"
            ]
          },
          "metadata": {},
          "execution_count": 16
        },
        {
          "output_type": "display_data",
          "data": {
            "text/plain": [
              "<Figure size 432x288 with 1 Axes>"
            ],
            "image/png": "[encoded data removed]"
          },
          "metadata": {
            "needs_background": "light"
          }
        }
      ]
    },
    {
      "cell_type": "code",
      "source": [
        "df[\"Category\"].value_counts()\n"
      ],
      "metadata": {
        "colab": {
          "base_uri": "https://localhost:8080/"
        },
        "id": "-UOwJONSzLTR",
        "outputId": "3d3fd55a-1f1f-4402-b29b-53c4459b4a95"
      },
      "execution_count": null,
      "outputs": [
        {
          "output_type": "execute_result",
          "data": {
            "text/plain": [
              "Office Supplies    6026\n",
              "Furniture          2121\n",
              "Technology         1847\n",
              "Name: Category, dtype: int64"
            ]
          },
          "metadata": {},
          "execution_count": 17
        }
      ]
    },
    {
      "cell_type": "code",
      "source": [
        "sns.countplot(x= df['Category'])"
      ],
      "metadata": {
        "colab": {
          "base_uri": "https://localhost:8080/"
        },
        "id": "7zp8ufN-zLPG",
        "outputId": "0b87b26b-c684-4af7-91e3-e29a4c3e6e70"
      },
      "execution_count": null,
      "outputs": [
        {
          "output_type": "execute_result",
          "data": {
            "text/plain": [
              "<matplotlib.axes._subplots.AxesSubplot at 0x7fb88e11eeb0>"
            ]
          },
          "metadata": {},
          "execution_count": 18
        },
        {
          "output_type": "display_data",
          "data": {
            "text/plain": [
              "<Figure size 432x288 with 1 Axes>"
            ],
            "image/png": "[encoded data removed]"
          },
          "metadata": {
            "needs_background": "light"
          }
        }
      ]
    },
    {
      "cell_type": "code",
      "source": [
        "l = list(df['Sub_Category'].unique())\n",
        "chart = sns.countplot(df[\"Sub_Category\"])\n",
        "chart.set_xticklabels(labels=l, rotation=90)"
      ],
      "metadata": {
        "id": "QCDHUsAqJeLs",
        "colab": {
          "base_uri": "https://localhost:8080/"
        },
        "outputId": "ef390305-f459-4cdd-900c-5166f487643d"
      },
      "execution_count": null,
      "outputs": [
        {
          "output_type": "execute_result",
          "data": {
            "text/plain": [
              "[Text(0, 0, 'Bookcases'),\n",
              " Text(0, 0, 'Chairs'),\n",
              " Text(0, 0, 'Labels'),\n",
              " Text(0, 0, 'Tables'),\n",
              " Text(0, 0, 'Storage'),\n",
              " Text(0, 0, 'Furnishings'),\n",
              " Text(0, 0, 'Art'),\n",
              " Text(0, 0, 'Phones'),\n",
              " Text(0, 0, 'Binders'),\n",
              " Text(0, 0, 'Appliances'),\n",
              " Text(0, 0, 'Paper'),\n",
              " Text(0, 0, 'Accessories'),\n",
              " Text(0, 0, 'Envelopes'),\n",
              " Text(0, 0, 'Fasteners'),\n",
              " Text(0, 0, 'Supplies'),\n",
              " Text(0, 0, 'Machines'),\n",
              " Text(0, 0, 'Copiers')]"
            ]
          },
          "metadata": {},
          "execution_count": 19
        },
        {
          "output_type": "display_data",
          "data": {
            "text/plain": [
              "<Figure size 432x288 with 1 Axes>"
            ],
            "image/png": "[encoded data removed]"
          },
          "metadata": {
            "needs_background": "light"
          }
        }
      ]
    },
    {
      "cell_type": "code",
      "source": [
        "def autopct_format(values):\n",
        "        def my_format(pct):\n",
        "            total = sum(values)\n",
        "            val = int(round(pct*total/100.0))\n",
        "            return '{:.1f}%\\n({v:d})'.format(pct, v=val)\n",
        "        return my_format"
      ],
      "metadata": {
        "id": "4Qi5cOeSz2_9"
      },
      "execution_count": null,
      "outputs": []
    },
    {
      "cell_type": "code",
      "source": [
        "plt.figure(figsize=(15,15))\n",
        "plt.pie(df[\"Sub_Category\"].value_counts(), labels= df[\"Sub_Category\"].value_counts().index, autopct =autopct_format(df[\"Sub_Category\"].value_counts()))\n",
        "plt.show()"
      ],
      "metadata": {
        "colab": {
          "base_uri": "https://localhost:8080/"
        },
        "id": "w5TXYKST0QAO",
        "outputId": "0e21a160-ab36-4f5a-fc41-b4613c8f48a8"
      },
      "execution_count": null,
      "outputs": [
        {
          "output_type": "display_data",
          "data": {
            "text/plain": [
              "<Figure size 1080x1080 with 1 Axes>"
            ],
            "image/png": "[encoded data removed]"
          },
          "metadata": {}
        }
      ]
    },
    {
      "cell_type": "code",
      "source": [
        "st_profit=df.groupby([\"State\"])[\"Profit\"].sum().nlargest(20)"
      ],
      "metadata": {
        "id": "VIijpLkZ1xy6"
      },
      "execution_count": null,
      "outputs": []
    },
    {
      "cell_type": "code",
      "source": [
        "st_profit"
      ],
      "metadata": {
        "colab": {
          "base_uri": "https://localhost:8080/"
        },
        "id": "4564BU6U127R",
        "outputId": "90ce359b-a9a6-4e5b-d0f6-b649be5b1d5b"
      },
      "execution_count": null,
      "outputs": [
        {
          "output_type": "execute_result",
          "data": {
            "text/plain": [
              "State\n",
              "California       76381.3871\n",
              "New York         74038.5486\n",
              "Washington       33402.6517\n",
              "Michigan         24463.1876\n",
              "Virginia         18597.9504\n",
              "Indiana          18382.9363\n",
              "Georgia          16250.0433\n",
              "Kentucky         11199.6966\n",
              "Minnesota        10823.1874\n",
              "Delaware          9977.3748\n",
              "New Jersey        9772.9138\n",
              "Wisconsin         8401.8004\n",
              "Rhode Island      7285.6293\n",
              "Maryland          7031.1788\n",
              "Massachusetts     6785.5016\n",
              "Missouri          6436.2105\n",
              "Alabama           5786.8253\n",
              "Oklahoma          4853.9560\n",
              "Arkansas          4008.6871\n",
              "Connecticut       3511.4918\n",
              "Name: Profit, dtype: float64"
            ]
          },
          "metadata": {},
          "execution_count": 23
        }
      ]
    },
    {
      "cell_type": "code",
      "source": [
        "plt.figure(figsize=(15,8))\n",
        "st_profit.plot.bar()"
      ],
      "metadata": {
        "colab": {
          "base_uri": "https://localhost:8080/"
        },
        "id": "-ziYzCfX16wo",
        "outputId": "1d096e3d-a875-44a0-bf23-aa11f60fa0dd"
      },
      "execution_count": null,
      "outputs": [
        {
          "output_type": "execute_result",
          "data": {
            "text/plain": [
              "<matplotlib.axes._subplots.AxesSubplot at 0x7fb88df47fd0>"
            ]
          },
          "metadata": {},
          "execution_count": 24
        },
        {
          "output_type": "display_data",
          "data": {
            "text/plain": [
              "<Figure size 1080x576 with 1 Axes>"
            ],
            "image/png": "[encoded data removed]"
          },
          "metadata": {
            "needs_background": "light"
          }
        }
      ]
    },
    {
      "cell_type": "code",
      "source": [
        "sns.lineplot(data=df, x=\"Discount\", y= \"Profit\")"
      ],
      "metadata": {
        "id": "IyGgYS_GJkb3",
        "colab": {
          "base_uri": "https://localhost:8080/"
        },
        "outputId": "daaec5c2-4f5f-4aea-858a-d7806375eb59"
      },
      "execution_count": null,
      "outputs": [
        {
          "output_type": "execute_result",
          "data": {
            "text/plain": [
              "<matplotlib.axes._subplots.AxesSubplot at 0x7fb88c654ca0>"
            ]
          },
          "metadata": {},
          "execution_count": 25
        },
        {
          "output_type": "display_data",
          "data": {
            "text/plain": [
              "<Figure size 432x288 with 1 Axes>"
            ],
            "image/png": "[encoded data removed]"
          },
          "metadata": {
            "needs_background": "light"
          }
        }
      ]
    },
    {
      "cell_type": "code",
      "source": [
        "df.plot(kind=\"scatter\",x=\"Sales\",y=\"Profit\", c=\"Discount\", colormap=\"Set1\",figsize=(10,10))"
      ],
      "metadata": {
        "id": "2CuYlVHULtOV",
        "colab": {
          "base_uri": "https://localhost:8080/"
        },
        "outputId": "1c9cc11d-5d3b-4eb7-a3c2-dfd434aa419d"
      },
      "execution_count": null,
      "outputs": [
        {
          "output_type": "execute_result",
          "data": {
            "text/plain": [
              "<matplotlib.axes._subplots.AxesSubplot at 0x7fb890fe5f10>"
            ]
          },
          "metadata": {},
          "execution_count": 26
        },
        {
          "output_type": "display_data",
          "data": {
            "text/plain": [
              "<Figure size 720x720 with 2 Axes>"
            ],
            "image/png": "[encoded data removed]"
          },
          "metadata": {
            "needs_background": "light"
          }
        }
      ]
    },
    {
      "cell_type": "code",
      "source": [
        "data1= df.groupby(\"State\")[[\"Sales\",\"Profit\"]].sum().sort_values(by=\"Sales\", ascending=False)\n",
        "data1[:].plot.bar(color = [\"Green\",\"Red\"], figsize=(20,12))\n",
        "plt.title(\"Profit-Loss and Sales across States\")\n",
        "plt.show()"
      ],
      "metadata": {
        "colab": {
          "base_uri": "https://localhost:8080/"
        },
        "id": "1w80XkFi2I94",
        "outputId": "66a101a8-8393-420a-bdd9-ddcf57359883"
      },
      "execution_count": null,
      "outputs": [
        {
          "output_type": "display_data",
          "data": {
            "text/plain": [
              "<Figure size 1440x864 with 1 Axes>"
            ],
            "image/png": "[encoded data removed]"
          },
          "metadata": {
            "needs_background": "light"
          }
        }
      ]
    },
    {
      "cell_type": "code",
      "source": [
        "data1= df.groupby(\"Region\")[[\"Sales\",\"Profit\"]].sum().sort_values(by=\"Sales\", ascending=False)\n",
        "data1[:].plot.bar(color = [\"Blue\",\"Red\"], figsize=(10,7))\n",
        "plt.title(\"Profit-Loss and Sales across Region\")\n",
        "plt.show()"
      ],
      "metadata": {
        "id": "GbtTjkybJlSe",
        "colab": {
          "base_uri": "https://localhost:8080/"
        },
        "outputId": "e7624661-815c-4541-f854-b3e847b7bbb2"
      },
      "execution_count": null,
      "outputs": [
        {
          "output_type": "display_data",
          "data": {
            "text/plain": [
              "<Figure size 720x504 with 1 Axes>"
            ],
            "image/png": "[encoded data removed]"
          },
          "metadata": {
            "needs_background": "light"
          }
        }
      ]
    },
    {
      "cell_type": "markdown",
      "source": [
        "**Conclusion on the EDA:**"
      ],
      "metadata": {
        "id": "TadnfS_D2Th1"
      }
    },
    {
      "cell_type": "markdown",
      "source": [
        "\n",
        "\n",
        "1. The western region generates highest profit.\n",
        "2. California, NewYork and Washington generates the most sales compared to the other places.\n",
        "3. The central region generates lowest profit.\n",
        "4. Texas, Pennsylvenia, Florida, Illinois, Ohio and some other states are generating loss with high sale. So we need to give some attention towards them.\n",
        "\n",
        "If we were to give suggestions to the organization using the data analysis we did above the suggestions would be to focus sales more on California and New York, while decreasing the focus on states like Texas, Florida, Ohio etc, another sugggestion would be to decrease the discount rates as it reduces the profit we get by sales. Another important conclusion we drew from here is that the the more sales doesn't necessarily mean that we get high amount of profit. "
      ],
      "metadata": {
        "id": "ExUPZanW2YCH"
      }
    },
    {
      "cell_type": "markdown",
      "source": [
        "**Distribution of Sale**"
      ],
      "metadata": {
        "id": "W_DoCOOod1GL"
      }
    },
    {
      "cell_type": "code",
      "source": [
        "f= plt.figure(figsize=(20,20))\n",
        "\n",
        "ax=f.add_subplot(3,3,1)\n",
        "sns.distplot(df[(df.Category== 'Office Supplies')][\"Sales\"],color='b',ax=ax)\n",
        "ax.set_title('Distribution of Sales of Office Supplies');\n",
        "\n",
        "ax=f.add_subplot(3,3,2)\n",
        "sns.distplot(df[(df.Category == 'Furniture')]['Sales'],color='r',ax=ax)\n",
        "ax.set_title('Distribution of Sales of Furniture');\n",
        "\n",
        "ax=f.add_subplot(3,3,3)\n",
        "sns.distplot(df[(df.Category== 'Technology')][\"Sales\"],color='orange',ax=ax)\n",
        "ax.set_title('Distribution of Sales of Technology');"
      ],
      "metadata": {
        "colab": {
          "base_uri": "https://localhost:8080/"
        },
        "id": "EBYeaduJd0h0",
        "outputId": "a8622efd-872a-4510-baed-85ee72093d22"
      },
      "execution_count": null,
      "outputs": [
        {
          "output_type": "display_data",
          "data": {
            "text/plain": [
              "<Figure size 1440x1440 with 3 Axes>"
            ],
            "image/png": "[encoded data removed]"
          },
          "metadata": {
            "needs_background": "light"
          }
        }
      ]
    },
    {
      "cell_type": "code",
      "source": [
        "sns.boxplot(x = 'Category', y = 'Sales', data = df, palette='Pastel1' );"
      ],
      "metadata": {
        "colab": {
          "base_uri": "https://localhost:8080/"
        },
        "id": "H1_E0HfJgIcx",
        "outputId": "424a829e-8296-407c-f0a8-b9571287ffde"
      },
      "execution_count": null,
      "outputs": [
        {
          "output_type": "display_data",
          "data": {
            "text/plain": [
              "<Figure size 432x288 with 1 Axes>"
            ],
            "image/png": "[encoded data removed]"
          },
          "metadata": {
            "needs_background": "light"
          }
        }
      ]
    },
    {
      "cell_type": "code",
      "source": [
        "df = df.rename(columns = {'Ship Mode':'Ship_Mode'})\n",
        "\n",
        "f= plt.figure(figsize=(20,20))\n",
        "\n",
        "ax=f.add_subplot(4,4,1)\n",
        "sns.distplot(df[(df.Ship_Mode== 'Standard Class')][\"Sales\"],color='r',ax=ax)\n",
        "ax.set_title('Distribution of Sales of Standard Class');\n",
        "\n",
        "ax=f.add_subplot(4,4,2)\n",
        "sns.distplot(df[(df.Ship_Mode== 'First Class')][\"Sales\"],color='b',ax=ax)\n",
        "ax.set_title('Distribution of Sales of First Class');\n",
        "\n",
        "ax=f.add_subplot(4,4,3)\n",
        "sns.distplot(df[(df.Ship_Mode== 'Second Class')][\"Sales\"],color='green',ax=ax)\n",
        "ax.set_title('Distribution of Sales of Second Class');\n",
        "\n",
        "ax=f.add_subplot(4,4,4)\n",
        "sns.distplot(df[(df.Ship_Mode== 'Same Day')][\"Sales\"],color='orange',ax=ax)\n",
        "ax.set_title('Distribution of Sales of Same Day');"
      ],
      "metadata": {
        "colab": {
          "base_uri": "https://localhost:8080/"
        },
        "id": "k0L4_WcigSYs",
        "outputId": "825e64d4-ff5f-43bb-aca0-547630a6f470"
      },
      "execution_count": null,
      "outputs": [
        {
          "output_type": "display_data",
          "data": {
            "text/plain": [
              "<Figure size 1440x1440 with 4 Axes>"
            ],
            "image/png": "[encoded data removed]"
          },
          "metadata": {
            "needs_background": "light"
          }
        }
      ]
    },
    {
      "cell_type": "code",
      "source": [
        "f= plt.figure(figsize=(20,20))\n",
        "ax=f.add_subplot(3,3,1)\n",
        "sns.distplot(df[(df.Segment== 'Home Office')][\"Sales\"],color='b',ax=ax)\n",
        "ax.set_title('Distribution of Sales of Home Office');\n",
        "\n",
        "ax=f.add_subplot(3,3,2)\n",
        "sns.distplot(df[(df.Segment== 'Corporate')][\"Sales\"],color='green',ax=ax)\n",
        "ax.set_title('Distribution of Sales of Corporate');\n",
        "\n",
        "ax=f.add_subplot(3,3,3)\n",
        "sns.distplot(df[(df.Segment== 'Consumer')][\"Sales\"],color='orange',ax=ax)\n",
        "ax.set_title('Distribution of Sales of Consumer');"
      ],
      "metadata": {
        "colab": {
          "base_uri": "https://localhost:8080/"
        },
        "id": "pG0cNJwThn8C",
        "outputId": "bebe8364-5be9-4dc8-ddf5-942dfcfe8d94"
      },
      "execution_count": null,
      "outputs": [
        {
          "output_type": "display_data",
          "data": {
            "text/plain": [
              "<Figure size 1440x1440 with 3 Axes>"
            ],
            "image/png": "[encoded data removed]"
          },
          "metadata": {
            "needs_background": "light"
          }
        }
      ]
    },
    {
      "cell_type": "markdown",
      "source": [
        "**Profit Vs Sales**"
      ],
      "metadata": {
        "id": "3_H7gLkHiKKk"
      }
    },
    {
      "cell_type": "code",
      "source": [
        "sns.scatterplot(x=\"Profit\", y=\"Sales\", data=df,color='r');"
      ],
      "metadata": {
        "colab": {
          "base_uri": "https://localhost:8080/"
        },
        "id": "NsCd72CyiNhJ",
        "outputId": "30a1d48f-f493-4253-ebb5-ac53bffc0fb4"
      },
      "execution_count": null,
      "outputs": [
        {
          "output_type": "display_data",
          "data": {
            "text/plain": [
              "<Figure size 432x288 with 1 Axes>"
            ],
            "image/png": "[encoded data removed]"
          },
          "metadata": {
            "needs_background": "light"
          }
        }
      ]
    },
    {
      "cell_type": "markdown",
      "source": [
        "Profit v Sales categorized by Category"
      ],
      "metadata": {
        "id": "Q1N-H2eziRHz"
      }
    },
    {
      "cell_type": "code",
      "source": [
        "sns.pairplot(df[['Profit','Sales','Category']], hue=\"Category\",size=5);"
      ],
      "metadata": {
        "colab": {
          "base_uri": "https://localhost:8080/"
        },
        "id": "MJjyR_yniOqY",
        "outputId": "82bd4bc5-2ab0-491e-ea96-cc41759e0585"
      },
      "execution_count": null,
      "outputs": [
        {
          "output_type": "display_data",
          "data": {
            "text/plain": [
              "<Figure size 830.875x720 with 6 Axes>"
            ],
            "image/png": "[encoded data removed]"
          },
          "metadata": {
            "needs_background": "light"
          }
        }
      ]
    },
    {
      "cell_type": "markdown",
      "source": [
        "### **Feature Engineering**"
      ],
      "metadata": {
        "id": "3aMlk1-PZTsA"
      }
    },
    {
      "cell_type": "markdown",
      "source": [
        "**Missing Values & Dataframe description**"
      ],
      "metadata": {
        "id": "xf3sjGpybpw1"
      }
    },
    {
      "cell_type": "code",
      "source": [
        "def check_df(dataframe, head=5):\n",
        "    print(\"♥♥♥♥♥♥♥♥♥♥♥♥♥♥♥♥♥♥♥♥ Shape ♥♥♥♥♥♥♥♥♥♥♥♥♥♥♥♥♥♥♥♥\")\n",
        "    print(dataframe.shape)\n",
        "\n",
        "    print(\"♥♥♥♥♥♥♥♥♥♥♥♥♥♥♥♥♥♥♥♥ Types ♥♥♥♥♥♥♥♥♥♥♥♥♥♥♥♥♥♥♥♥\")\n",
        "    print(dataframe.dtypes)\n",
        "\n",
        "    print(\"♥♥♥♥♥♥♥♥♥♥♥♥♥♥♥♥♥♥♥♥ NA ♥♥♥♥♥♥♥♥♥♥♥♥♥♥♥♥♥♥♥♥\")\n",
        "    print(dataframe.isnull().sum())\n",
        "\n",
        "    print(\"♥♥♥♥♥♥♥♥♥♥♥♥♥♥♥♥♥♥♥♥ Quantiles ♥♥♥♥♥♥♥♥♥♥♥♥♥♥♥♥♥♥♥♥\")\n",
        "    print(dataframe.quantile([0, 0.05, 0.50, 0.95, 0.99, 1]).T)"
      ],
      "metadata": {
        "id": "iIVkWs1qcrPv"
      },
      "execution_count": null,
      "outputs": []
    },
    {
      "cell_type": "code",
      "source": [
        "check_df(df)"
      ],
      "metadata": {
        "colab": {
          "base_uri": "https://localhost:8080/"
        },
        "id": "t747YovXi5VO",
        "outputId": "2483134c-bf0f-47f2-8ca3-93edce733e2e"
      },
      "execution_count": null,
      "outputs": [
        {
          "output_type": "stream",
          "name": "stdout",
          "text": [
            "♥♥♥♥♥♥♥♥♥♥♥♥♥♥♥♥♥♥♥♥ Shape ♥♥♥♥♥♥♥♥♥♥♥♥♥♥♥♥♥♥♥♥\n",
            "(9994, 11)\n",
            "♥♥♥♥♥♥♥♥♥♥♥♥♥♥♥♥♥♥♥♥ Types ♥♥♥♥♥♥♥♥♥♥♥♥♥♥♥♥♥♥♥♥\n",
            "Ship_Mode        object\n",
            "Segment          object\n",
            "City             object\n",
            "State            object\n",
            "Region           object\n",
            "Category         object\n",
            "Sub_Category     object\n",
            "Sales           float64\n",
            "Quantity          int64\n",
            "Discount        float64\n",
            "Profit          float64\n",
            "dtype: object\n",
            "♥♥♥♥♥♥♥♥♥♥♥♥♥♥♥♥♥♥♥♥ NA ♥♥♥♥♥♥♥♥♥♥♥♥♥♥♥♥♥♥♥♥\n",
            "Ship_Mode       0\n",
            "Segment         0\n",
            "City            0\n",
            "State           0\n",
            "Region          0\n",
            "Category        0\n",
            "Sub_Category    0\n",
            "Sales           0\n",
            "Quantity        0\n",
            "Discount        0\n",
            "Profit          0\n",
            "dtype: int64\n",
            "♥♥♥♥♥♥♥♥♥♥♥♥♥♥♥♥♥♥♥♥ Quantiles ♥♥♥♥♥♥♥♥♥♥♥♥♥♥♥♥♥♥♥♥\n",
            "              0.00      0.05     0.50        0.95         0.99       1.00\n",
            "Sales        0.444   4.98000  54.4900  956.984245  2481.694600  22638.480\n",
            "Quantity     1.000   1.00000   3.0000    8.000000    11.000000     14.000\n",
            "Discount     0.000   0.00000   0.2000    0.700000     0.800000      0.800\n",
            "Profit   -6599.978 -53.03092   8.6665  168.470400   580.657882   8399.976\n"
          ]
        }
      ]
    },
    {
      "cell_type": "markdown",
      "source": [
        "There are no missing values in the above given data"
      ],
      "metadata": {
        "id": "nQWoVXb6lmLh"
      }
    },
    {
      "cell_type": "markdown",
      "source": [
        "**Cardinality Reduction**"
      ],
      "metadata": {
        "id": "4tww3Qk5i_r3"
      }
    },
    {
      "cell_type": "code",
      "source": [
        "top_ten_cities=df[\"City\"].value_counts().head(10).index\n",
        "df[\"City\"]=df[\"City\"].apply(lambda c: c if c in top_ten_cities else \"others\")\n",
        "top_ten_states=df[\"State\"].value_counts().head(10).index\n",
        "df[\"State\"]=df[\"State\"].apply(lambda c: c if c in top_ten_states else \"others\")"
      ],
      "metadata": {
        "id": "YnF_f8lJi-vn"
      },
      "execution_count": null,
      "outputs": []
    },
    {
      "cell_type": "markdown",
      "source": [
        "**Outliers**"
      ],
      "metadata": {
        "id": "RTSBFSPtjJ7F"
      }
    },
    {
      "cell_type": "code",
      "source": [
        "q1,q2 =df[\"Profit\"].quantile([0.1,0.9])\n",
        "df=df[df[\"Profit\"].between(q1,q2)]"
      ],
      "metadata": {
        "id": "FKH4w24hjFiD"
      },
      "execution_count": null,
      "outputs": []
    },
    {
      "cell_type": "markdown",
      "source": [
        "**Label Encoding**"
      ],
      "metadata": {
        "id": "ebjWw_f73jYZ"
      }
    },
    {
      "cell_type": "code",
      "source": [
        "from sklearn.preprocessing import LabelEncoder\n",
        "encoder = LabelEncoder()"
      ],
      "metadata": {
        "id": "F82dsoG-3mf0"
      },
      "execution_count": null,
      "outputs": []
    },
    {
      "cell_type": "code",
      "source": [
        "df['Ship_Mode'] = encoder.fit_transform(df['Ship_Mode'])\n",
        "\n",
        "df['Segment'] = encoder.fit_transform(df['Segment'])\n",
        "\n",
        "df['City'] = encoder.fit_transform(df['City'])\n",
        "\n",
        "df['State'] = encoder.fit_transform(df['State'])\n",
        "\n",
        "df['Region'] = encoder.fit_transform(df['Region'])\n",
        "\n",
        "df['Category'] = encoder.fit_transform(df['Category'])\n",
        "\n",
        "df['Sub_Category'] = encoder.fit_transform(df['Sub_Category'])\n",
        "\n",
        "df['Sales'] = encoder.fit_transform(df['Sales'])\n",
        "\n",
        "df['Quantity'] = encoder.fit_transform(df['Quantity'])\n",
        "\n",
        "df['Discount'] = encoder.fit_transform(df['Discount'])\n",
        "\n",
        "df['Profit'] = encoder.fit_transform(df['Profit'])"
      ],
      "metadata": {
        "id": "sHVwTvQS5YI4"
      },
      "execution_count": null,
      "outputs": []
    },
    {
      "cell_type": "code",
      "source": [
        "df.head(20)"
      ],
      "metadata": {
        "colab": {
          "base_uri": "https://localhost:8080/",
          "height": 677
        },
        "id": "9amVSTIC5aUB",
        "outputId": "61460ac4-0543-4be0-8154-c72f729175e4"
      },
      "execution_count": null,
      "outputs": [
        {
          "output_type": "execute_result",
          "data": {
            "text/plain": [
              "    Ship_Mode  Segment  City  State  Region  Category  Sub_Category  Sales  \\\n",
              "0           2        0    10     10       2         0             4   3802   \n",
              "2           2        1     3      0       3         1            10    942   \n",
              "4           3        0    10      1       2         1            14   1317   \n",
              "5           3        0     3      0       3         0             9   2151   \n",
              "6           3        0     3      0       3         1             2    464   \n",
              "8           3        0     3      0       3         1             3   1134   \n",
              "9           3        0     3      0       3         1             1   3071   \n",
              "10          3        0     3      0       3         0            16   4358   \n",
              "11          3        0     3      0       3         2            13   4318   \n",
              "12          3        0    10      5       2         1            12    995   \n",
              "15          3        2    10      8       0         1             3     97   \n",
              "16          3        0    10     10       0         1            14   4241   \n",
              "17          2        0    10     10       3         1            14   2289   \n",
              "18          2        0     7      0       3         1             2    550   \n",
              "19          2        0     7      0       3         2            13   3652   \n",
              "20          2        0     7      0       3         1             3   1331   \n",
              "21          3        1    10     10       0         1             2   1182   \n",
              "22          3        1    10     10       0         1             1   2379   \n",
              "23          2        0     5      7       1         0             5   2585   \n",
              "25          2        0     3      0       3         1             3    760   \n",
              "\n",
              "    Quantity  Discount  Profit  \n",
              "0          1         0    4840  \n",
              "2          1         0    2401  \n",
              "4          1         3    1357  \n",
              "5          6         0    3419  \n",
              "6          3         0    1203  \n",
              "8          2         3    2168  \n",
              "9          4         0    4617  \n",
              "10         8         3    5514  \n",
              "11         3         3    5306  \n",
              "12         2         3    2098  \n",
              "15         2        10     488  \n",
              "16         5         0    3343  \n",
              "17         1         0    2941  \n",
              "18         1         0    1349  \n",
              "19         2         3    3615  \n",
              "20         3         3    2504  \n",
              "21         6         0    2009  \n",
              "22         6         0    3574  \n",
              "23         1         4     711  \n",
              "25         1         3    1814  "
            ],
            "text/html": [
              "\n",
              "  <div id=\"df-83fdacf1-1c3a-493a-a46d-afcb5f30893b\">\n",
              "    <div class=\"colab-df-container\">\n",
              "      <div>\n",
              "<style scoped>\n",
              "    .dataframe tbody tr th:only-of-type {\n",
              "        vertical-align: middle;\n",
              "    }\n",
              "\n",
              "    .dataframe tbody tr th {\n",
              "        vertical-align: top;\n",
              "    }\n",
              "\n",
              "    .dataframe thead th {\n",
              "        text-align: right;\n",
              "    }\n",
              "</style>\n",
              "<table border=\"1\" class=\"dataframe\">\n",
              "  <thead>\n",
              "    <tr style=\"text-align: right;\">\n",
              "      <th></th>\n",
              "      <th>Ship_Mode</th>\n",
              "      <th>Segment</th>\n",
              "      <th>City</th>\n",
              "      <th>State</th>\n",
              "      <th>Region</th>\n",
              "      <th>Category</th>\n",
              "      <th>Sub_Category</th>\n",
              "      <th>Sales</th>\n",
              "      <th>Quantity</th>\n",
              "      <th>Discount</th>\n",
              "      <th>Profit</th>\n",
              "    </tr>\n",
              "  </thead>\n",
              "  <tbody>\n",
              "    <tr>\n",
              "      <th>0</th>\n",
              "      <td>2</td>\n",
              "      <td>0</td>\n",
              "      <td>10</td>\n",
              "      <td>10</td>\n",
              "      <td>2</td>\n",
              "      <td>0</td>\n",
              "      <td>4</td>\n",
              "      <td>3802</td>\n",
              "      <td>1</td>\n",
              "      <td>0</td>\n",
              "      <td>4840</td>\n",
              "    </tr>\n",
              "    <tr>\n",
              "      <th>2</th>\n",
              "      <td>2</td>\n",
              "      <td>1</td>\n",
              "      <td>3</td>\n",
              "      <td>0</td>\n",
              "      <td>3</td>\n",
              "      <td>1</td>\n",
              "      <td>10</td>\n",
              "      <td>942</td>\n",
              "      <td>1</td>\n",
              "      <td>0</td>\n",
              "      <td>2401</td>\n",
              "    </tr>\n",
              "    <tr>\n",
              "      <th>4</th>\n",
              "      <td>3</td>\n",
              "      <td>0</td>\n",
              "      <td>10</td>\n",
              "      <td>1</td>\n",
              "      <td>2</td>\n",
              "      <td>1</td>\n",
              "      <td>14</td>\n",
              "      <td>1317</td>\n",
              "      <td>1</td>\n",
              "      <td>3</td>\n",
              "      <td>1357</td>\n",
              "    </tr>\n",
              "    <tr>\n",
              "      <th>5</th>\n",
              "      <td>3</td>\n",
              "      <td>0</td>\n",
              "      <td>3</td>\n",
              "      <td>0</td>\n",
              "      <td>3</td>\n",
              "      <td>0</td>\n",
              "      <td>9</td>\n",
              "      <td>2151</td>\n",
              "      <td>6</td>\n",
              "      <td>0</td>\n",
              "      <td>3419</td>\n",
              "    </tr>\n",
              "    <tr>\n",
              "      <th>6</th>\n",
              "      <td>3</td>\n",
              "      <td>0</td>\n",
              "      <td>3</td>\n",
              "      <td>0</td>\n",
              "      <td>3</td>\n",
              "      <td>1</td>\n",
              "      <td>2</td>\n",
              "      <td>464</td>\n",
              "      <td>3</td>\n",
              "      <td>0</td>\n",
              "      <td>1203</td>\n",
              "    </tr>\n",
              "    <tr>\n",
              "      <th>8</th>\n",
              "      <td>3</td>\n",
              "      <td>0</td>\n",
              "      <td>3</td>\n",
              "      <td>0</td>\n",
              "      <td>3</td>\n",
              "      <td>1</td>\n",
              "      <td>3</td>\n",
              "      <td>1134</td>\n",
              "      <td>2</td>\n",
              "      <td>3</td>\n",
              "      <td>2168</td>\n",
              "    </tr>\n",
              "    <tr>\n",
              "      <th>9</th>\n",
              "      <td>3</td>\n",
              "      <td>0</td>\n",
              "      <td>3</td>\n",
              "      <td>0</td>\n",
              "      <td>3</td>\n",
              "      <td>1</td>\n",
              "      <td>1</td>\n",
              "      <td>3071</td>\n",
              "      <td>4</td>\n",
              "      <td>0</td>\n",
              "      <td>4617</td>\n",
              "    </tr>\n",
              "    <tr>\n",
              "      <th>10</th>\n",
              "      <td>3</td>\n",
              "      <td>0</td>\n",
              "      <td>3</td>\n",
              "      <td>0</td>\n",
              "      <td>3</td>\n",
              "      <td>0</td>\n",
              "      <td>16</td>\n",
              "      <td>4358</td>\n",
              "      <td>8</td>\n",
              "      <td>3</td>\n",
              "      <td>5514</td>\n",
              "    </tr>\n",
              "    <tr>\n",
              "      <th>11</th>\n",
              "      <td>3</td>\n",
              "      <td>0</td>\n",
              "      <td>3</td>\n",
              "      <td>0</td>\n",
              "      <td>3</td>\n",
              "      <td>2</td>\n",
              "      <td>13</td>\n",
              "      <td>4318</td>\n",
              "      <td>3</td>\n",
              "      <td>3</td>\n",
              "      <td>5306</td>\n",
              "    </tr>\n",
              "    <tr>\n",
              "      <th>12</th>\n",
              "      <td>3</td>\n",
              "      <td>0</td>\n",
              "      <td>10</td>\n",
              "      <td>5</td>\n",
              "      <td>2</td>\n",
              "      <td>1</td>\n",
              "      <td>12</td>\n",
              "      <td>995</td>\n",
              "      <td>2</td>\n",
              "      <td>3</td>\n",
              "      <td>2098</td>\n",
              "    </tr>\n",
              "    <tr>\n",
              "      <th>15</th>\n",
              "      <td>3</td>\n",
              "      <td>2</td>\n",
              "      <td>10</td>\n",
              "      <td>8</td>\n",
              "      <td>0</td>\n",
              "      <td>1</td>\n",
              "      <td>3</td>\n",
              "      <td>97</td>\n",
              "      <td>2</td>\n",
              "      <td>10</td>\n",
              "      <td>488</td>\n",
              "    </tr>\n",
              "    <tr>\n",
              "      <th>16</th>\n",
              "      <td>3</td>\n",
              "      <td>0</td>\n",
              "      <td>10</td>\n",
              "      <td>10</td>\n",
              "      <td>0</td>\n",
              "      <td>1</td>\n",
              "      <td>14</td>\n",
              "      <td>4241</td>\n",
              "      <td>5</td>\n",
              "      <td>0</td>\n",
              "      <td>3343</td>\n",
              "    </tr>\n",
              "    <tr>\n",
              "      <th>17</th>\n",
              "      <td>2</td>\n",
              "      <td>0</td>\n",
              "      <td>10</td>\n",
              "      <td>10</td>\n",
              "      <td>3</td>\n",
              "      <td>1</td>\n",
              "      <td>14</td>\n",
              "      <td>2289</td>\n",
              "      <td>1</td>\n",
              "      <td>0</td>\n",
              "      <td>2941</td>\n",
              "    </tr>\n",
              "    <tr>\n",
              "      <th>18</th>\n",
              "      <td>2</td>\n",
              "      <td>0</td>\n",
              "      <td>7</td>\n",
              "      <td>0</td>\n",
              "      <td>3</td>\n",
              "      <td>1</td>\n",
              "      <td>2</td>\n",
              "      <td>550</td>\n",
              "      <td>1</td>\n",
              "      <td>0</td>\n",
              "      <td>1349</td>\n",
              "    </tr>\n",
              "    <tr>\n",
              "      <th>19</th>\n",
              "      <td>2</td>\n",
              "      <td>0</td>\n",
              "      <td>7</td>\n",
              "      <td>0</td>\n",
              "      <td>3</td>\n",
              "      <td>2</td>\n",
              "      <td>13</td>\n",
              "      <td>3652</td>\n",
              "      <td>2</td>\n",
              "      <td>3</td>\n",
              "      <td>3615</td>\n",
              "    </tr>\n",
              "    <tr>\n",
              "      <th>20</th>\n",
              "      <td>2</td>\n",
              "      <td>0</td>\n",
              "      <td>7</td>\n",
              "      <td>0</td>\n",
              "      <td>3</td>\n",
              "      <td>1</td>\n",
              "      <td>3</td>\n",
              "      <td>1331</td>\n",
              "      <td>3</td>\n",
              "      <td>3</td>\n",
              "      <td>2504</td>\n",
              "    </tr>\n",
              "    <tr>\n",
              "      <th>21</th>\n",
              "      <td>3</td>\n",
              "      <td>1</td>\n",
              "      <td>10</td>\n",
              "      <td>10</td>\n",
              "      <td>0</td>\n",
              "      <td>1</td>\n",
              "      <td>2</td>\n",
              "      <td>1182</td>\n",
              "      <td>6</td>\n",
              "      <td>0</td>\n",
              "      <td>2009</td>\n",
              "    </tr>\n",
              "    <tr>\n",
              "      <th>22</th>\n",
              "      <td>3</td>\n",
              "      <td>1</td>\n",
              "      <td>10</td>\n",
              "      <td>10</td>\n",
              "      <td>0</td>\n",
              "      <td>1</td>\n",
              "      <td>1</td>\n",
              "      <td>2379</td>\n",
              "      <td>6</td>\n",
              "      <td>0</td>\n",
              "      <td>3574</td>\n",
              "    </tr>\n",
              "    <tr>\n",
              "      <th>23</th>\n",
              "      <td>2</td>\n",
              "      <td>0</td>\n",
              "      <td>5</td>\n",
              "      <td>7</td>\n",
              "      <td>1</td>\n",
              "      <td>0</td>\n",
              "      <td>5</td>\n",
              "      <td>2585</td>\n",
              "      <td>1</td>\n",
              "      <td>4</td>\n",
              "      <td>711</td>\n",
              "    </tr>\n",
              "    <tr>\n",
              "      <th>25</th>\n",
              "      <td>2</td>\n",
              "      <td>0</td>\n",
              "      <td>3</td>\n",
              "      <td>0</td>\n",
              "      <td>3</td>\n",
              "      <td>1</td>\n",
              "      <td>3</td>\n",
              "      <td>760</td>\n",
              "      <td>1</td>\n",
              "      <td>3</td>\n",
              "      <td>1814</td>\n",
              "    </tr>\n",
              "  </tbody>\n",
              "</table>\n",
              "</div>\n",
              "      <button class=\"colab-df-convert\" onclick=\"convertToInteractive('df-83fdacf1-1c3a-493a-a46d-afcb5f30893b')\"\n",
              "              title=\"Convert this dataframe to an interactive table.\"\n",
              "              style=\"display:none;\">\n",
              "        \n",
              "  <svg xmlns=\"http://www.w3.org/2000/svg\" height=\"24px\"viewBox=\"0 0 24 24\"\n",
              "       width=\"24px\">\n",
              "    <path d=\"M0 0h24v24H0V0z\" fill=\"none\"/>\n",
              "    <path d=\"M18.56 5.44l.94 2.06.94-2.06 2.06-.94-2.06-.94-.94-2.06-.94 2.06-2.06.94zm-11 1L8.5 8.5l.94-2.06 2.06-.94-2.06-.94L8.5 2.5l-.94 2.06-2.06.94zm10 10l.94 2.06.94-2.06 2.06-.94-2.06-.94-.94-2.06-.94 2.06-2.06.94z\"/><path d=\"M17.41 7.96l-1.37-1.37c-.4-.4-.92-.59-1.43-.59-.52 0-1.04.2-1.43.59L10.3 9.45l-7.72 7.72c-.78.78-.78 2.05 0 2.83L4 21.41c.39.39.9.59 1.41.59.51 0 1.02-.2 1.41-.59l7.78-7.78 2.81-2.81c.8-.78.8-2.07 0-2.86zM5.41 20L4 18.59l7.72-7.72 1.47 1.35L5.41 20z\"/>\n",
              "  </svg>\n",
              "      </button>\n",
              "      \n",
              "  <style>\n",
              "    .colab-df-container {\n",
              "      display:flex;\n",
              "      flex-wrap:wrap;\n",
              "      gap: 12px;\n",
              "    }\n",
              "\n",
              "    .colab-df-convert {\n",
              "      background-color: #E8F0FE;\n",
              "      border: none;\n",
              "      border-radius: 50%;\n",
              "      cursor: pointer;\n",
              "      display: none;\n",
              "      fill: #1967D2;\n",
              "      height: 32px;\n",
              "      padding: 0 0 0 0;\n",
              "      width: 32px;\n",
              "    }\n",
              "\n",
              "    .colab-df-convert:hover {\n",
              "      background-color: #E2EBFA;\n",
              "      box-shadow: 0px 1px 2px rgba(60, 64, 67, 0.3), 0px 1px 3px 1px rgba(60, 64, 67, 0.15);\n",
              "      fill: #174EA6;\n",
              "    }\n",
              "\n",
              "    [theme=dark] .colab-df-convert {\n",
              "      background-color: #3B4455;\n",
              "      fill: #D2E3FC;\n",
              "    }\n",
              "\n",
              "    [theme=dark] .colab-df-convert:hover {\n",
              "      background-color: #434B5C;\n",
              "      box-shadow: 0px 1px 3px 1px rgba(0, 0, 0, 0.15);\n",
              "      filter: drop-shadow(0px 1px 2px rgba(0, 0, 0, 0.3));\n",
              "      fill: #FFFFFF;\n",
              "    }\n",
              "  </style>\n",
              "\n",
              "      <script>\n",
              "        const buttonEl =\n",
              "          document.querySelector('#df-83fdacf1-1c3a-493a-a46d-afcb5f30893b button.colab-df-convert');\n",
              "        buttonEl.style.display =\n",
              "          google.colab.kernel.accessAllowed ? 'block' : 'none';\n",
              "\n",
              "        async function convertToInteractive(key) {\n",
              "          const element = document.querySelector('#df-83fdacf1-1c3a-493a-a46d-afcb5f30893b');\n",
              "          const dataTable =\n",
              "            await google.colab.kernel.invokeFunction('convertToInteractive',\n",
              "                                                     [key], {});\n",
              "          if (!dataTable) return;\n",
              "\n",
              "          const docLinkHtml = 'Like what you see? Visit the ' +\n",
              "            '<a target=\"_blank\" href=https://colab.research.google.com/notebooks/data_table.ipynb>data table notebook</a>'\n",
              "            + ' to learn more about interactive tables.';\n",
              "          element.innerHTML = '';\n",
              "          dataTable['output_type'] = 'display_data';\n",
              "          await google.colab.output.renderOutput(dataTable, element);\n",
              "          const docLink = document.createElement('div');\n",
              "          docLink.innerHTML = docLinkHtml;\n",
              "          element.appendChild(docLink);\n",
              "        }\n",
              "      </script>\n",
              "    </div>\n",
              "  </div>\n",
              "  "
            ]
          },
          "metadata": {},
          "execution_count": 41
        }
      ]
    },
    {
      "cell_type": "markdown",
      "source": [
        "**One-Hot Encoding**"
      ],
      "metadata": {
        "id": "zOFHobwwkA_R"
      }
    },
    {
      "cell_type": "code",
      "source": [
        "dm = pd.get_dummies(df, columns=['Ship_Mode', 'Segment', 'Category'])\n",
        "dm.head()"
      ],
      "metadata": {
        "colab": {
          "base_uri": "https://localhost:8080/",
          "height": 270
        },
        "id": "ol0oaWI-kDjg",
        "outputId": "cb6b6491-9ca2-41e0-81e9-df60fe7836fa"
      },
      "execution_count": null,
      "outputs": [
        {
          "output_type": "execute_result",
          "data": {
            "text/plain": [
              "   City  State  Region  Sub_Category  Sales  Quantity  Discount  Profit  \\\n",
              "0    10     10       2             4   3802         1         0    4840   \n",
              "2     3      0       3            10    942         1         0    2401   \n",
              "4    10      1       2            14   1317         1         3    1357   \n",
              "5     3      0       3             9   2151         6         0    3419   \n",
              "6     3      0       3             2    464         3         0    1203   \n",
              "\n",
              "   Ship_Mode_0  Ship_Mode_1  Ship_Mode_2  Ship_Mode_3  Segment_0  Segment_1  \\\n",
              "0            0            0            1            0          1          0   \n",
              "2            0            0            1            0          0          1   \n",
              "4            0            0            0            1          1          0   \n",
              "5            0            0            0            1          1          0   \n",
              "6            0            0            0            1          1          0   \n",
              "\n",
              "   Segment_2  Category_0  Category_1  Category_2  \n",
              "0          0           1           0           0  \n",
              "2          0           0           1           0  \n",
              "4          0           0           1           0  \n",
              "5          0           1           0           0  \n",
              "6          0           0           1           0  "
            ],
            "text/html": [
              "\n",
              "  <div id=\"df-39cc1aa5-401a-4ec3-ba89-751158458c80\">\n",
              "    <div class=\"colab-df-container\">\n",
              "      <div>\n",
              "<style scoped>\n",
              "    .dataframe tbody tr th:only-of-type {\n",
              "        vertical-align: middle;\n",
              "    }\n",
              "\n",
              "    .dataframe tbody tr th {\n",
              "        vertical-align: top;\n",
              "    }\n",
              "\n",
              "    .dataframe thead th {\n",
              "        text-align: right;\n",
              "    }\n",
              "</style>\n",
              "<table border=\"1\" class=\"dataframe\">\n",
              "  <thead>\n",
              "    <tr style=\"text-align: right;\">\n",
              "      <th></th>\n",
              "      <th>City</th>\n",
              "      <th>State</th>\n",
              "      <th>Region</th>\n",
              "      <th>Sub_Category</th>\n",
              "      <th>Sales</th>\n",
              "      <th>Quantity</th>\n",
              "      <th>Discount</th>\n",
              "      <th>Profit</th>\n",
              "      <th>Ship_Mode_0</th>\n",
              "      <th>Ship_Mode_1</th>\n",
              "      <th>Ship_Mode_2</th>\n",
              "      <th>Ship_Mode_3</th>\n",
              "      <th>Segment_0</th>\n",
              "      <th>Segment_1</th>\n",
              "      <th>Segment_2</th>\n",
              "      <th>Category_0</th>\n",
              "      <th>Category_1</th>\n",
              "      <th>Category_2</th>\n",
              "    </tr>\n",
              "  </thead>\n",
              "  <tbody>\n",
              "    <tr>\n",
              "      <th>0</th>\n",
              "      <td>10</td>\n",
              "      <td>10</td>\n",
              "      <td>2</td>\n",
              "      <td>4</td>\n",
              "      <td>3802</td>\n",
              "      <td>1</td>\n",
              "      <td>0</td>\n",
              "      <td>4840</td>\n",
              "      <td>0</td>\n",
              "      <td>0</td>\n",
              "      <td>1</td>\n",
              "      <td>0</td>\n",
              "      <td>1</td>\n",
              "      <td>0</td>\n",
              "      <td>0</td>\n",
              "      <td>1</td>\n",
              "      <td>0</td>\n",
              "      <td>0</td>\n",
              "    </tr>\n",
              "    <tr>\n",
              "      <th>2</th>\n",
              "      <td>3</td>\n",
              "      <td>0</td>\n",
              "      <td>3</td>\n",
              "      <td>10</td>\n",
              "      <td>942</td>\n",
              "      <td>1</td>\n",
              "      <td>0</td>\n",
              "      <td>2401</td>\n",
              "      <td>0</td>\n",
              "      <td>0</td>\n",
              "      <td>1</td>\n",
              "      <td>0</td>\n",
              "      <td>0</td>\n",
              "      <td>1</td>\n",
              "      <td>0</td>\n",
              "      <td>0</td>\n",
              "      <td>1</td>\n",
              "      <td>0</td>\n",
              "    </tr>\n",
              "    <tr>\n",
              "      <th>4</th>\n",
              "      <td>10</td>\n",
              "      <td>1</td>\n",
              "      <td>2</td>\n",
              "      <td>14</td>\n",
              "      <td>1317</td>\n",
              "      <td>1</td>\n",
              "      <td>3</td>\n",
              "      <td>1357</td>\n",
              "      <td>0</td>\n",
              "      <td>0</td>\n",
              "      <td>0</td>\n",
              "      <td>1</td>\n",
              "      <td>1</td>\n",
              "      <td>0</td>\n",
              "      <td>0</td>\n",
              "      <td>0</td>\n",
              "      <td>1</td>\n",
              "      <td>0</td>\n",
              "    </tr>\n",
              "    <tr>\n",
              "      <th>5</th>\n",
              "      <td>3</td>\n",
              "      <td>0</td>\n",
              "      <td>3</td>\n",
              "      <td>9</td>\n",
              "      <td>2151</td>\n",
              "      <td>6</td>\n",
              "      <td>0</td>\n",
              "      <td>3419</td>\n",
              "      <td>0</td>\n",
              "      <td>0</td>\n",
              "      <td>0</td>\n",
              "      <td>1</td>\n",
              "      <td>1</td>\n",
              "      <td>0</td>\n",
              "      <td>0</td>\n",
              "      <td>1</td>\n",
              "      <td>0</td>\n",
              "      <td>0</td>\n",
              "    </tr>\n",
              "    <tr>\n",
              "      <th>6</th>\n",
              "      <td>3</td>\n",
              "      <td>0</td>\n",
              "      <td>3</td>\n",
              "      <td>2</td>\n",
              "      <td>464</td>\n",
              "      <td>3</td>\n",
              "      <td>0</td>\n",
              "      <td>1203</td>\n",
              "      <td>0</td>\n",
              "      <td>0</td>\n",
              "      <td>0</td>\n",
              "      <td>1</td>\n",
              "      <td>1</td>\n",
              "      <td>0</td>\n",
              "      <td>0</td>\n",
              "      <td>0</td>\n",
              "      <td>1</td>\n",
              "      <td>0</td>\n",
              "    </tr>\n",
              "  </tbody>\n",
              "</table>\n",
              "</div>\n",
              "      <button class=\"colab-df-convert\" onclick=\"convertToInteractive('df-39cc1aa5-401a-4ec3-ba89-751158458c80')\"\n",
              "              title=\"Convert this dataframe to an interactive table.\"\n",
              "              style=\"display:none;\">\n",
              "        \n",
              "  <svg xmlns=\"http://www.w3.org/2000/svg\" height=\"24px\"viewBox=\"0 0 24 24\"\n",
              "       width=\"24px\">\n",
              "    <path d=\"M0 0h24v24H0V0z\" fill=\"none\"/>\n",
              "    <path d=\"M18.56 5.44l.94 2.06.94-2.06 2.06-.94-2.06-.94-.94-2.06-.94 2.06-2.06.94zm-11 1L8.5 8.5l.94-2.06 2.06-.94-2.06-.94L8.5 2.5l-.94 2.06-2.06.94zm10 10l.94 2.06.94-2.06 2.06-.94-2.06-.94-.94-2.06-.94 2.06-2.06.94z\"/><path d=\"M17.41 7.96l-1.37-1.37c-.4-.4-.92-.59-1.43-.59-.52 0-1.04.2-1.43.59L10.3 9.45l-7.72 7.72c-.78.78-.78 2.05 0 2.83L4 21.41c.39.39.9.59 1.41.59.51 0 1.02-.2 1.41-.59l7.78-7.78 2.81-2.81c.8-.78.8-2.07 0-2.86zM5.41 20L4 18.59l7.72-7.72 1.47 1.35L5.41 20z\"/>\n",
              "  </svg>\n",
              "      </button>\n",
              "      \n",
              "  <style>\n",
              "    .colab-df-container {\n",
              "      display:flex;\n",
              "      flex-wrap:wrap;\n",
              "      gap: 12px;\n",
              "    }\n",
              "\n",
              "    .colab-df-convert {\n",
              "      background-color: #E8F0FE;\n",
              "      border: none;\n",
              "      border-radius: 50%;\n",
              "      cursor: pointer;\n",
              "      display: none;\n",
              "      fill: #1967D2;\n",
              "      height: 32px;\n",
              "      padding: 0 0 0 0;\n",
              "      width: 32px;\n",
              "    }\n",
              "\n",
              "    .colab-df-convert:hover {\n",
              "      background-color: #E2EBFA;\n",
              "      box-shadow: 0px 1px 2px rgba(60, 64, 67, 0.3), 0px 1px 3px 1px rgba(60, 64, 67, 0.15);\n",
              "      fill: #174EA6;\n",
              "    }\n",
              "\n",
              "    [theme=dark] .colab-df-convert {\n",
              "      background-color: #3B4455;\n",
              "      fill: #D2E3FC;\n",
              "    }\n",
              "\n",
              "    [theme=dark] .colab-df-convert:hover {\n",
              "      background-color: #434B5C;\n",
              "      box-shadow: 0px 1px 3px 1px rgba(0, 0, 0, 0.15);\n",
              "      filter: drop-shadow(0px 1px 2px rgba(0, 0, 0, 0.3));\n",
              "      fill: #FFFFFF;\n",
              "    }\n",
              "  </style>\n",
              "\n",
              "      <script>\n",
              "        const buttonEl =\n",
              "          document.querySelector('#df-39cc1aa5-401a-4ec3-ba89-751158458c80 button.colab-df-convert');\n",
              "        buttonEl.style.display =\n",
              "          google.colab.kernel.accessAllowed ? 'block' : 'none';\n",
              "\n",
              "        async function convertToInteractive(key) {\n",
              "          const element = document.querySelector('#df-39cc1aa5-401a-4ec3-ba89-751158458c80');\n",
              "          const dataTable =\n",
              "            await google.colab.kernel.invokeFunction('convertToInteractive',\n",
              "                                                     [key], {});\n",
              "          if (!dataTable) return;\n",
              "\n",
              "          const docLinkHtml = 'Like what you see? Visit the ' +\n",
              "            '<a target=\"_blank\" href=https://colab.research.google.com/notebooks/data_table.ipynb>data table notebook</a>'\n",
              "            + ' to learn more about interactive tables.';\n",
              "          element.innerHTML = '';\n",
              "          dataTable['output_type'] = 'display_data';\n",
              "          await google.colab.output.renderOutput(dataTable, element);\n",
              "          const docLink = document.createElement('div');\n",
              "          docLink.innerHTML = docLinkHtml;\n",
              "          element.appendChild(docLink);\n",
              "        }\n",
              "      </script>\n",
              "    </div>\n",
              "  </div>\n",
              "  "
            ]
          },
          "metadata": {},
          "execution_count": 42
        }
      ]
    },
    {
      "cell_type": "markdown",
      "source": [
        "One Hot Encoded Data-Frame isn't of any use for us hence we will be continuing with our original dataframe 'df'"
      ],
      "metadata": {
        "id": "ii5EQRsslD9M"
      }
    },
    {
      "cell_type": "markdown",
      "source": [
        "**Feature Scaling**"
      ],
      "metadata": {
        "id": "7roiUu1Em-n6"
      }
    },
    {
      "cell_type": "markdown",
      "source": [
        "\n",
        "\n",
        "```\n",
        "#Done after splitting the values:\n",
        "\n",
        "from sklearn.preprocessing import StandardScaler\n",
        "sc = StandardScaler()\n",
        "x_std = sc.fit_transform(X_train)\n",
        "\n",
        "\n",
        "```\n",
        "\n"
      ],
      "metadata": {
        "id": "Urt-SBzxnB45"
      }
    },
    {
      "cell_type": "markdown",
      "source": [
        "### **Splitting Values and Creating Model**"
      ],
      "metadata": {
        "id": "__k5d95C50HY"
      }
    },
    {
      "cell_type": "code",
      "source": [
        "target=\"Sales\"\n",
        "X=df.drop(['Sales'],axis=1)\n",
        "y=df['Sales']\n",
        "print(X.shape)\n",
        "print(y.shape)"
      ],
      "metadata": {
        "colab": {
          "base_uri": "https://localhost:8080/"
        },
        "id": "YVPjB7CV56Gk",
        "outputId": "f9e62f73-087a-40f0-ddfb-c7d23ba714f7"
      },
      "execution_count": null,
      "outputs": [
        {
          "output_type": "stream",
          "name": "stdout",
          "text": [
            "(7994, 10)\n",
            "(7994,)\n"
          ]
        }
      ]
    },
    {
      "cell_type": "markdown",
      "source": [
        "**Splitting the values**"
      ],
      "metadata": {
        "id": "C7len8laoemE"
      }
    },
    {
      "cell_type": "code",
      "source": [
        "from sklearn.model_selection import train_test_split\n",
        "X_train, X_test, y_train, y_test=train_test_split(X, y, test_size=0.4, random_state=10)"
      ],
      "metadata": {
        "id": "Jb1n_6f5vrZk"
      },
      "execution_count": null,
      "outputs": []
    },
    {
      "cell_type": "markdown",
      "source": [
        "**Scaling using Scikit Learn Standardization(part of feature engineering)**\n"
      ],
      "metadata": {
        "id": "cKnKf_4DHcce"
      }
    },
    {
      "cell_type": "code",
      "source": [
        "from sklearn.preprocessing import StandardScaler\n",
        "#For X_train\n",
        "scaler_train = StandardScaler().fit(X_train)\n",
        "X_train_std = scaler_train.transform(X_train)\n",
        "#For X_test\n",
        "X_test_std = scaler_train.transform(X_test)"
      ],
      "metadata": {
        "id": "VUuyqjGGHc3p"
      },
      "execution_count": null,
      "outputs": []
    },
    {
      "cell_type": "markdown",
      "source": [
        "### **Linear Regression**"
      ],
      "metadata": {
        "id": "zIuw9lCG5kRc"
      }
    },
    {
      "cell_type": "markdown",
      "source": [
        "**Our Implementation**"
      ],
      "metadata": {
        "id": "mtr-3siVq-Nr"
      }
    },
    {
      "cell_type": "code",
      "source": [
        "class LinearRegressionIn() :\n",
        "      \n",
        "    def __init__( self, learning_rate, iterations ) :\n",
        "        self.learning_rate = learning_rate\n",
        "        self.iterations = iterations\n",
        "\n",
        "    def fit( self, X, Y ) :\n",
        "        self.m, self.n = X.shape\n",
        "        self.W = np.zeros( self.n )          \n",
        "        self.b = 0\n",
        "        self.X = X        \n",
        "        self.Y = Y\n",
        "                  \n",
        "        for i in range( self.iterations ) :             \n",
        "            self.update_weights()             \n",
        "        return self\n",
        "\n",
        "    def update_weights( self ) :             \n",
        "        Y_pred = self.predict( self.X )         \n",
        "        dW = - ( 2 * ( self.X.T ).dot( self.Y - Y_pred )  ) / self.m   \n",
        "        db = - 2 * np.sum( self.Y - Y_pred ) / self.m      \n",
        "        self.W = self.W - self.learning_rate * dW      \n",
        "        self.b = self.b - self.learning_rate * db         \n",
        "        return self\n",
        "\n",
        "    def predict( self, X ) :      \n",
        "        return X.dot( self.W ) + self.b\n",
        "     "
      ],
      "metadata": {
        "id": "XIckHsE55nF9"
      },
      "execution_count": null,
      "outputs": []
    },
    {
      "cell_type": "code",
      "source": [
        "model_lr = LinearRegressionIn(iterations = 2000, learning_rate = 0.01)\n",
        "model_lr.fit(X_train_std,y_train)\n",
        "pred_lr = model_lr.predict(X_test_std)"
      ],
      "metadata": {
        "id": "ZHT9QDM65req"
      },
      "execution_count": null,
      "outputs": []
    },
    {
      "cell_type": "code",
      "source": [
        "Acc_lr = r2_score(y_test, pred_lr)\n",
        "print(\"Accuracy:\",round(Acc_lr,2))"
      ],
      "metadata": {
        "colab": {
          "base_uri": "https://localhost:8080/"
        },
        "id": "gs-kq3j26j96",
        "outputId": "848a0d0d-d199-4652-b563-b35cd9b533bc"
      },
      "execution_count": null,
      "outputs": [
        {
          "output_type": "stream",
          "name": "stdout",
          "text": [
            "Accuracy: 0.48\n"
          ]
        }
      ]
    },
    {
      "cell_type": "markdown",
      "source": [
        "**Sci-Kit Learn Linear Regression**"
      ],
      "metadata": {
        "id": "7GY15HNlrCcf"
      }
    },
    {
      "cell_type": "code",
      "source": [
        "from sklearn.linear_model import LinearRegression\n",
        "model_ilr = LinearRegression()\n",
        "model_ilr.fit(X_train_std,y_train)\n",
        "pred_ilr = model_ilr.predict(X_test_std)"
      ],
      "metadata": {
        "id": "zCet3bt4qZ_r"
      },
      "execution_count": null,
      "outputs": []
    },
    {
      "cell_type": "code",
      "source": [
        "Acc_ilr = r2_score(y_test, pred_ilr)\n",
        "print(\"Accuracy:\",round(Acc_ilr,2))"
      ],
      "metadata": {
        "colab": {
          "base_uri": "https://localhost:8080/"
        },
        "id": "K93kp1upsO8C",
        "outputId": "4d032835-2934-4ba8-91df-ab8f1bde1f99"
      },
      "execution_count": null,
      "outputs": [
        {
          "output_type": "stream",
          "name": "stdout",
          "text": [
            "Accuracy: 0.48\n"
          ]
        }
      ]
    },
    {
      "cell_type": "markdown",
      "source": [
        "Comparing the values of inbuilt and our implementation"
      ],
      "metadata": {
        "id": "OMJjlQbksYbx"
      }
    },
    {
      "cell_type": "code",
      "source": [
        "finalData_lr = pd.DataFrame({'Actual': y_test, 'Predicted_Inbuilt': pred_ilr,'Our_Implementation': pred_lr})\n",
        "finalData_lr.head()"
      ],
      "metadata": {
        "colab": {
          "base_uri": "https://localhost:8080/",
          "height": 206
        },
        "id": "eOImvpCbsgry",
        "outputId": "3816b129-65df-431e-9a6f-9ac252694c79"
      },
      "execution_count": null,
      "outputs": [
        {
          "output_type": "execute_result",
          "data": {
            "text/plain": [
              "      Actual  Predicted_Inbuilt  Our_Implementation\n",
              "5057    1967         897.494094          897.494103\n",
              "6378    2928        2774.296835         2774.296831\n",
              "2152     959        1664.371996         1664.371998\n",
              "2365    2073        2432.863211         2432.863211\n",
              "3971    2678        2400.134880         2400.134883"
            ],
            "text/html": [
              "\n",
              "  <div id=\"df-fe5da305-d654-471b-b835-7bd0ba13aeca\">\n",
              "    <div class=\"colab-df-container\">\n",
              "      <div>\n",
              "<style scoped>\n",
              "    .dataframe tbody tr th:only-of-type {\n",
              "        vertical-align: middle;\n",
              "    }\n",
              "\n",
              "    .dataframe tbody tr th {\n",
              "        vertical-align: top;\n",
              "    }\n",
              "\n",
              "    .dataframe thead th {\n",
              "        text-align: right;\n",
              "    }\n",
              "</style>\n",
              "<table border=\"1\" class=\"dataframe\">\n",
              "  <thead>\n",
              "    <tr style=\"text-align: right;\">\n",
              "      <th></th>\n",
              "      <th>Actual</th>\n",
              "      <th>Predicted_Inbuilt</th>\n",
              "      <th>Our_Implementation</th>\n",
              "    </tr>\n",
              "  </thead>\n",
              "  <tbody>\n",
              "    <tr>\n",
              "      <th>5057</th>\n",
              "      <td>1967</td>\n",
              "      <td>897.494094</td>\n",
              "      <td>897.494103</td>\n",
              "    </tr>\n",
              "    <tr>\n",
              "      <th>6378</th>\n",
              "      <td>2928</td>\n",
              "      <td>2774.296835</td>\n",
              "      <td>2774.296831</td>\n",
              "    </tr>\n",
              "    <tr>\n",
              "      <th>2152</th>\n",
              "      <td>959</td>\n",
              "      <td>1664.371996</td>\n",
              "      <td>1664.371998</td>\n",
              "    </tr>\n",
              "    <tr>\n",
              "      <th>2365</th>\n",
              "      <td>2073</td>\n",
              "      <td>2432.863211</td>\n",
              "      <td>2432.863211</td>\n",
              "    </tr>\n",
              "    <tr>\n",
              "      <th>3971</th>\n",
              "      <td>2678</td>\n",
              "      <td>2400.134880</td>\n",
              "      <td>2400.134883</td>\n",
              "    </tr>\n",
              "  </tbody>\n",
              "</table>\n",
              "</div>\n",
              "      <button class=\"colab-df-convert\" onclick=\"convertToInteractive('df-fe5da305-d654-471b-b835-7bd0ba13aeca')\"\n",
              "              title=\"Convert this dataframe to an interactive table.\"\n",
              "              style=\"display:none;\">\n",
              "        \n",
              "  <svg xmlns=\"http://www.w3.org/2000/svg\" height=\"24px\"viewBox=\"0 0 24 24\"\n",
              "       width=\"24px\">\n",
              "    <path d=\"M0 0h24v24H0V0z\" fill=\"none\"/>\n",
              "    <path d=\"M18.56 5.44l.94 2.06.94-2.06 2.06-.94-2.06-.94-.94-2.06-.94 2.06-2.06.94zm-11 1L8.5 8.5l.94-2.06 2.06-.94-2.06-.94L8.5 2.5l-.94 2.06-2.06.94zm10 10l.94 2.06.94-2.06 2.06-.94-2.06-.94-.94-2.06-.94 2.06-2.06.94z\"/><path d=\"M17.41 7.96l-1.37-1.37c-.4-.4-.92-.59-1.43-.59-.52 0-1.04.2-1.43.59L10.3 9.45l-7.72 7.72c-.78.78-.78 2.05 0 2.83L4 21.41c.39.39.9.59 1.41.59.51 0 1.02-.2 1.41-.59l7.78-7.78 2.81-2.81c.8-.78.8-2.07 0-2.86zM5.41 20L4 18.59l7.72-7.72 1.47 1.35L5.41 20z\"/>\n",
              "  </svg>\n",
              "      </button>\n",
              "      \n",
              "  <style>\n",
              "    .colab-df-container {\n",
              "      display:flex;\n",
              "      flex-wrap:wrap;\n",
              "      gap: 12px;\n",
              "    }\n",
              "\n",
              "    .colab-df-convert {\n",
              "      background-color: #E8F0FE;\n",
              "      border: none;\n",
              "      border-radius: 50%;\n",
              "      cursor: pointer;\n",
              "      display: none;\n",
              "      fill: #1967D2;\n",
              "      height: 32px;\n",
              "      padding: 0 0 0 0;\n",
              "      width: 32px;\n",
              "    }\n",
              "\n",
              "    .colab-df-convert:hover {\n",
              "      background-color: #E2EBFA;\n",
              "      box-shadow: 0px 1px 2px rgba(60, 64, 67, 0.3), 0px 1px 3px 1px rgba(60, 64, 67, 0.15);\n",
              "      fill: #174EA6;\n",
              "    }\n",
              "\n",
              "    [theme=dark] .colab-df-convert {\n",
              "      background-color: #3B4455;\n",
              "      fill: #D2E3FC;\n",
              "    }\n",
              "\n",
              "    [theme=dark] .colab-df-convert:hover {\n",
              "      background-color: #434B5C;\n",
              "      box-shadow: 0px 1px 3px 1px rgba(0, 0, 0, 0.15);\n",
              "      filter: drop-shadow(0px 1px 2px rgba(0, 0, 0, 0.3));\n",
              "      fill: #FFFFFF;\n",
              "    }\n",
              "  </style>\n",
              "\n",
              "      <script>\n",
              "        const buttonEl =\n",
              "          document.querySelector('#df-fe5da305-d654-471b-b835-7bd0ba13aeca button.colab-df-convert');\n",
              "        buttonEl.style.display =\n",
              "          google.colab.kernel.accessAllowed ? 'block' : 'none';\n",
              "\n",
              "        async function convertToInteractive(key) {\n",
              "          const element = document.querySelector('#df-fe5da305-d654-471b-b835-7bd0ba13aeca');\n",
              "          const dataTable =\n",
              "            await google.colab.kernel.invokeFunction('convertToInteractive',\n",
              "                                                     [key], {});\n",
              "          if (!dataTable) return;\n",
              "\n",
              "          const docLinkHtml = 'Like what you see? Visit the ' +\n",
              "            '<a target=\"_blank\" href=https://colab.research.google.com/notebooks/data_table.ipynb>data table notebook</a>'\n",
              "            + ' to learn more about interactive tables.';\n",
              "          element.innerHTML = '';\n",
              "          dataTable['output_type'] = 'display_data';\n",
              "          await google.colab.output.renderOutput(dataTable, element);\n",
              "          const docLink = document.createElement('div');\n",
              "          docLink.innerHTML = docLinkHtml;\n",
              "          element.appendChild(docLink);\n",
              "        }\n",
              "      </script>\n",
              "    </div>\n",
              "  </div>\n",
              "  "
            ]
          },
          "metadata": {},
          "execution_count": 64
        }
      ]
    },
    {
      "cell_type": "markdown",
      "source": [
        "Linear Regression without feature scaling"
      ],
      "metadata": {
        "id": "SzALatqryn1T"
      }
    },
    {
      "cell_type": "code",
      "source": [
        "model_lr1 = LinearRegressionIn(iterations = 2000, learning_rate = 0.01)\n",
        "model_lr1.fit(X_train,y_train)\n",
        "pred_ilr1 = model_lr1.predict(X_test)"
      ],
      "metadata": {
        "id": "grJz94EcynnM"
      },
      "execution_count": null,
      "outputs": []
    },
    {
      "cell_type": "code",
      "source": [
        "Acc_ilr1 = r2_score(y_test, pred_ilr1)\n",
        "print(\"Accuracy:\",round(Acc_ilr1,2))"
      ],
      "metadata": {
        "id": "lgId0QmzER4z"
      },
      "execution_count": null,
      "outputs": []
    },
    {
      "cell_type": "markdown",
      "source": [
        "\n",
        "\n",
        "```\n",
        "------------------------------------------------------------------------------------------------------------------------\n",
        "ValueError                                Traceback (most recent call last)\n",
        "<ipython-input-134-8f5d9fb9ee9d> in <module>\n",
        "----> 1 Acc_ilr1 = r2_score(y_test, pred_ilr1)\n",
        "      2 print(\"Accuracy:\",round(Acc_ilr1,2))\n",
        "\n",
        "3 frames\n",
        "/usr/local/lib/python3.8/dist-packages/sklearn/utils/validation.py in _assert_all_finite(X, allow_nan, msg_dtype)\n",
        "    112         ):\n",
        "    113             type_err = \"infinity\" if allow_nan else \"NaN, infinity\"\n",
        "--> 114             raise ValueError(\n",
        "    115                 msg_err.format(\n",
        "    116                     type_err, msg_dtype if msg_dtype is not None else X.dtype\n",
        "\n",
        "ValueError: Input contains NaN, infinity or a value too large for dtype('float64').\n",
        "```\n",
        "\n"
      ],
      "metadata": {
        "id": "67rnxvTazki8"
      }
    },
    {
      "cell_type": "markdown",
      "source": [
        "### **Decision Trees**"
      ],
      "metadata": {
        "id": "JEFNLGOPtHaE"
      }
    },
    {
      "cell_type": "markdown",
      "source": [
        "**Our Implementation**"
      ],
      "metadata": {
        "id": "QV9kfR_2tPwG"
      }
    },
    {
      "cell_type": "code",
      "source": [
        "class Node:\n",
        "    \n",
        "    def __init__(self, feature=None, threshold=None, left=None, right=None, *, value=None):\n",
        "        self.feature = feature\n",
        "        self.threshold = threshold\n",
        "        self.left = left\n",
        "        self.right = right\n",
        "        self.value = value\n",
        "    \n",
        "    def is_leaf_node(self):\n",
        "        return self.value is not None\n",
        "\n",
        "\n",
        "# Decision Tree Regressor Class\n",
        "class RegressionTree:\n",
        "    def __init__(self, n_feats = None, max_depth = 100, min_samples_split = 2, min_samples_leaf=1, min_weight_fraction_leaf=0.0, max_features=None ,\n",
        "                 random_state=None ,max_leaf_nodes=None, min_impurity_decrease=0.0, ccp_alpha=0.0):\n",
        "        \n",
        "        self.root = None\n",
        "        self.n_feats = n_feats\n",
        "        self.max_depth = max_depth\n",
        "        self.min_samples_split = min_samples_split\n",
        "    \n",
        "    def fit(self, X, Y):\n",
        "        self.n_feats = X.shape[1] if not self.n_feats else min(self.n_feats, X.shape[1])\n",
        "        self.col = list(X.columns)\n",
        "        self.root = self.growTree(X, Y)\n",
        "\n",
        "    def growTree(self, X, Y, depth = 0):\n",
        "        \n",
        "        dfd = X.copy()\n",
        "        dfd['y'] = Y\n",
        "        \n",
        "        ymean = np.mean(Y)\n",
        "        \n",
        "        self.mse = self.get_mse(Y, ymean)\n",
        "        \n",
        "        n_sample, n_feature = X.shape\n",
        "        \n",
        "        # stopping criteria\n",
        "        if (depth >= self.max_depth or n_sample <= self.min_samples_split):\n",
        "            leaf_value = np.mean(Y)\n",
        "            return Node(value=leaf_value)\n",
        "\n",
        "        feats_idxs = list(X.columns)\n",
        "\n",
        "        best_feat, best_thresh = self.best_criteria(X, Y, feats_idxs)\n",
        "\n",
        "        left_dfd, right_dfd = dfd[dfd[best_feat]<=best_thresh].copy(), dfd[dfd[best_feat]>best_thresh].copy()\n",
        "\n",
        "        left = self.growTree(left_dfd.drop('y', axis=1), left_dfd['y'].values.tolist(), depth+1)\n",
        "        right = self.growTree(right_dfd.drop('y', axis=1), right_dfd['y'].values.tolist(), depth+1)\n",
        "\n",
        "        return Node(best_feat, best_thresh, left, right)\n",
        "    \n",
        "    \n",
        "    # find out best criteria\n",
        "    def best_criteria(self, X, Y, feats_idxs):\n",
        "        \n",
        "        dfd = X.copy()\n",
        "        \n",
        "        dfd['y'] = Y\n",
        "        \n",
        "        mse_base = self.mse\n",
        "        \n",
        "        best_feature = None\n",
        "        best_thresh = None\n",
        "        \n",
        "        for feat in feats_idxs:\n",
        "            \n",
        "            xdf = dfd.sort_values(feat)\n",
        "            \n",
        "            x_mean = self.moving_average(xdf[feat], 2)\n",
        "\n",
        "            for value in x_mean:\n",
        "                left_y = xdf[xdf[feat] < value]['y'].values\n",
        "                right_y = xdf[xdf[feat] >= value]['y'].values\n",
        "                \n",
        "                left_mean = 0\n",
        "                right_mean = 0\n",
        "                if len(left_y) > 0:\n",
        "                    left_mean = np.mean(left_y)\n",
        "                if len(right_y) > 0:\n",
        "                    right_mean = np.mean(right_y)\n",
        "                \n",
        "                res_left = left_y - left_mean\n",
        "                res_right = right_y - right_mean\n",
        "                \n",
        "                r = np.concatenate((res_left, res_right), axis=None)\n",
        "                \n",
        "                n = len(r)\n",
        "\n",
        "                r = r ** 2\n",
        "                r = np.sum(r)\n",
        "                mse_split = r / n\n",
        "                \n",
        "                if mse_split < mse_base:\n",
        "                    mse_base = mse_split\n",
        "                    best_feature = feat\n",
        "                    best_thresh = value\n",
        "                    \n",
        "        return (best_feature, best_thresh)\n",
        "    \n",
        "    def get_mse(self, y_true, y_hat):\n",
        "        n = len(y_true)\n",
        "        r = y_true - y_hat        \n",
        "        r = r ** 2        \n",
        "        r = np.sum(r)        \n",
        "        return r / n\n",
        "    \n",
        "    def moving_average(self, x:np.array, window : int):\n",
        "        return np.convolve(x, np.ones(window), 'valid') / window \n",
        "    \n",
        "    def predict(self, X):\n",
        "        X = X.to_numpy().tolist()        \n",
        "        return np.array([self.traverse_tree(x, self.root) for x in X])\n",
        "\n",
        "    def traverse_tree(self, x, node):       \n",
        "        if node.value is not None:\n",
        "            return node.value\n",
        "        \n",
        "        fr = node.feature\n",
        "        index = self.col.index(fr)\n",
        "        \n",
        "        if x[index] <= node.threshold:\n",
        "            return self.traverse_tree(x, node.left)\n",
        "        \n",
        "        return self.traverse_tree(x, node.right)"
      ],
      "metadata": {
        "id": "25fWKczWtR3P"
      },
      "execution_count": null,
      "outputs": []
    },
    {
      "cell_type": "code",
      "source": [
        "model_dt = RegressionTree(max_depth = 8,min_samples_split = 10)\n",
        "model_dt.fit(X_train,y_train)\n",
        "pred_dt = model_dt.predict(X_test)"
      ],
      "metadata": {
        "id": "4kSPC26ytUTV"
      },
      "execution_count": null,
      "outputs": []
    },
    {
      "cell_type": "markdown",
      "source": [
        "Decision trees and ensemble methods do not require feature scaling to be performed as they are not sensitive to the the variance in the data."
      ],
      "metadata": {
        "id": "m6-fmwj1wy_B"
      }
    },
    {
      "cell_type": "code",
      "source": [
        "Acc_dt = r2_score(y_test, pred_dt)\n",
        "print(\"Accuracy:\",round(Acc_dt,2))"
      ],
      "metadata": {
        "colab": {
          "base_uri": "https://localhost:8080/"
        },
        "id": "lfiY0RGjt6GP",
        "outputId": "f683308b-8a75-43dc-c473-d8773db67248"
      },
      "execution_count": null,
      "outputs": [
        {
          "output_type": "stream",
          "name": "stdout",
          "text": [
            "Accuracy: 0.85\n"
          ]
        }
      ]
    },
    {
      "cell_type": "markdown",
      "source": [
        "**Sci-Kit Learn Decision Tree**"
      ],
      "metadata": {
        "id": "FyJylV1SxKGG"
      }
    },
    {
      "cell_type": "code",
      "source": [
        "from sklearn.tree import DecisionTreeRegressor\n",
        "model_idt = DecisionTreeRegressor(max_depth = 12,min_samples_split = 50)\n",
        "model_idt.fit(X_train,y_train)\n",
        "pred_idt = model_idt.predict(X_test)"
      ],
      "metadata": {
        "id": "SzqS-EosxJNB"
      },
      "execution_count": null,
      "outputs": []
    },
    {
      "cell_type": "code",
      "source": [
        "Acc_idt = r2_score(y_test, pred_idt)\n",
        "print(\"Accuracy:\",round(Acc_idt,2))"
      ],
      "metadata": {
        "colab": {
          "base_uri": "https://localhost:8080/"
        },
        "id": "wrL7rrz5ySRO",
        "outputId": "501142b4-f5fe-44f9-98a2-3fc663a649ac"
      },
      "execution_count": null,
      "outputs": [
        {
          "output_type": "stream",
          "name": "stdout",
          "text": [
            "Accuracy: 0.88\n"
          ]
        }
      ]
    },
    {
      "cell_type": "markdown",
      "source": [
        "Comparing the values of inbuilt and our implementation"
      ],
      "metadata": {
        "id": "E5V4RUM-4zck"
      }
    },
    {
      "cell_type": "code",
      "source": [
        "finalData_dt = pd.DataFrame({'Actual': y_test, 'Predicted_Inbuilt': pred_idt,'Our_Implementation': pred_dt})\n",
        "finalData_dt.head()"
      ],
      "metadata": {
        "colab": {
          "base_uri": "https://localhost:8080/",
          "height": 206
        },
        "id": "xzuIBhCeyYJs",
        "outputId": "149664d1-bbbb-4280-8375-1d0c3c71f6ae"
      },
      "execution_count": null,
      "outputs": [
        {
          "output_type": "execute_result",
          "data": {
            "text/plain": [
              "      Actual  Predicted_Inbuilt  Our_Implementation\n",
              "5057    1967        2614.122449         2428.625000\n",
              "6378    2928        3046.709677         3046.709677\n",
              "2152     959         951.024390         1095.734568\n",
              "2365    2073        2042.410256         2113.500000\n",
              "3971    2678        2702.153846         2780.706667"
            ],
            "text/html": [
              "\n",
              "  <div id=\"df-06e1dd01-510e-4687-b48e-dd37af0c5014\">\n",
              "    <div class=\"colab-df-container\">\n",
              "      <div>\n",
              "<style scoped>\n",
              "    .dataframe tbody tr th:only-of-type {\n",
              "        vertical-align: middle;\n",
              "    }\n",
              "\n",
              "    .dataframe tbody tr th {\n",
              "        vertical-align: top;\n",
              "    }\n",
              "\n",
              "    .dataframe thead th {\n",
              "        text-align: right;\n",
              "    }\n",
              "</style>\n",
              "<table border=\"1\" class=\"dataframe\">\n",
              "  <thead>\n",
              "    <tr style=\"text-align: right;\">\n",
              "      <th></th>\n",
              "      <th>Actual</th>\n",
              "      <th>Predicted_Inbuilt</th>\n",
              "      <th>Our_Implementation</th>\n",
              "    </tr>\n",
              "  </thead>\n",
              "  <tbody>\n",
              "    <tr>\n",
              "      <th>5057</th>\n",
              "      <td>1967</td>\n",
              "      <td>2614.122449</td>\n",
              "      <td>2428.625000</td>\n",
              "    </tr>\n",
              "    <tr>\n",
              "      <th>6378</th>\n",
              "      <td>2928</td>\n",
              "      <td>3046.709677</td>\n",
              "      <td>3046.709677</td>\n",
              "    </tr>\n",
              "    <tr>\n",
              "      <th>2152</th>\n",
              "      <td>959</td>\n",
              "      <td>951.024390</td>\n",
              "      <td>1095.734568</td>\n",
              "    </tr>\n",
              "    <tr>\n",
              "      <th>2365</th>\n",
              "      <td>2073</td>\n",
              "      <td>2042.410256</td>\n",
              "      <td>2113.500000</td>\n",
              "    </tr>\n",
              "    <tr>\n",
              "      <th>3971</th>\n",
              "      <td>2678</td>\n",
              "      <td>2702.153846</td>\n",
              "      <td>2780.706667</td>\n",
              "    </tr>\n",
              "  </tbody>\n",
              "</table>\n",
              "</div>\n",
              "      <button class=\"colab-df-convert\" onclick=\"convertToInteractive('df-06e1dd01-510e-4687-b48e-dd37af0c5014')\"\n",
              "              title=\"Convert this dataframe to an interactive table.\"\n",
              "              style=\"display:none;\">\n",
              "        \n",
              "  <svg xmlns=\"http://www.w3.org/2000/svg\" height=\"24px\"viewBox=\"0 0 24 24\"\n",
              "       width=\"24px\">\n",
              "    <path d=\"M0 0h24v24H0V0z\" fill=\"none\"/>\n",
              "    <path d=\"M18.56 5.44l.94 2.06.94-2.06 2.06-.94-2.06-.94-.94-2.06-.94 2.06-2.06.94zm-11 1L8.5 8.5l.94-2.06 2.06-.94-2.06-.94L8.5 2.5l-.94 2.06-2.06.94zm10 10l.94 2.06.94-2.06 2.06-.94-2.06-.94-.94-2.06-.94 2.06-2.06.94z\"/><path d=\"M17.41 7.96l-1.37-1.37c-.4-.4-.92-.59-1.43-.59-.52 0-1.04.2-1.43.59L10.3 9.45l-7.72 7.72c-.78.78-.78 2.05 0 2.83L4 21.41c.39.39.9.59 1.41.59.51 0 1.02-.2 1.41-.59l7.78-7.78 2.81-2.81c.8-.78.8-2.07 0-2.86zM5.41 20L4 18.59l7.72-7.72 1.47 1.35L5.41 20z\"/>\n",
              "  </svg>\n",
              "      </button>\n",
              "      \n",
              "  <style>\n",
              "    .colab-df-container {\n",
              "      display:flex;\n",
              "      flex-wrap:wrap;\n",
              "      gap: 12px;\n",
              "    }\n",
              "\n",
              "    .colab-df-convert {\n",
              "      background-color: #E8F0FE;\n",
              "      border: none;\n",
              "      border-radius: 50%;\n",
              "      cursor: pointer;\n",
              "      display: none;\n",
              "      fill: #1967D2;\n",
              "      height: 32px;\n",
              "      padding: 0 0 0 0;\n",
              "      width: 32px;\n",
              "    }\n",
              "\n",
              "    .colab-df-convert:hover {\n",
              "      background-color: #E2EBFA;\n",
              "      box-shadow: 0px 1px 2px rgba(60, 64, 67, 0.3), 0px 1px 3px 1px rgba(60, 64, 67, 0.15);\n",
              "      fill: #174EA6;\n",
              "    }\n",
              "\n",
              "    [theme=dark] .colab-df-convert {\n",
              "      background-color: #3B4455;\n",
              "      fill: #D2E3FC;\n",
              "    }\n",
              "\n",
              "    [theme=dark] .colab-df-convert:hover {\n",
              "      background-color: #434B5C;\n",
              "      box-shadow: 0px 1px 3px 1px rgba(0, 0, 0, 0.15);\n",
              "      filter: drop-shadow(0px 1px 2px rgba(0, 0, 0, 0.3));\n",
              "      fill: #FFFFFF;\n",
              "    }\n",
              "  </style>\n",
              "\n",
              "      <script>\n",
              "        const buttonEl =\n",
              "          document.querySelector('#df-06e1dd01-510e-4687-b48e-dd37af0c5014 button.colab-df-convert');\n",
              "        buttonEl.style.display =\n",
              "          google.colab.kernel.accessAllowed ? 'block' : 'none';\n",
              "\n",
              "        async function convertToInteractive(key) {\n",
              "          const element = document.querySelector('#df-06e1dd01-510e-4687-b48e-dd37af0c5014');\n",
              "          const dataTable =\n",
              "            await google.colab.kernel.invokeFunction('convertToInteractive',\n",
              "                                                     [key], {});\n",
              "          if (!dataTable) return;\n",
              "\n",
              "          const docLinkHtml = 'Like what you see? Visit the ' +\n",
              "            '<a target=\"_blank\" href=https://colab.research.google.com/notebooks/data_table.ipynb>data table notebook</a>'\n",
              "            + ' to learn more about interactive tables.';\n",
              "          element.innerHTML = '';\n",
              "          dataTable['output_type'] = 'display_data';\n",
              "          await google.colab.output.renderOutput(dataTable, element);\n",
              "          const docLink = document.createElement('div');\n",
              "          docLink.innerHTML = docLinkHtml;\n",
              "          element.appendChild(docLink);\n",
              "        }\n",
              "      </script>\n",
              "    </div>\n",
              "  </div>\n",
              "  "
            ]
          },
          "metadata": {},
          "execution_count": 81
        }
      ]
    },
    {
      "cell_type": "markdown",
      "source": [
        "### **Random Forest Regressor**"
      ],
      "metadata": {
        "id": "Xi-AYTRc0Gpk"
      }
    },
    {
      "cell_type": "markdown",
      "source": [
        "**Our Implementation**"
      ],
      "metadata": {
        "id": "jUpLerqN20nq"
      }
    },
    {
      "cell_type": "code",
      "source": [
        "import pandas as pd\n",
        "import numpy as np\n",
        "import math\n",
        "\n",
        "\n",
        "class DecisionTree():\n",
        "    def __init__(self, x, y, min_leaf):\n",
        "        self.x = x\n",
        "        self.y = y\n",
        "        self.min_leaf = min_leaf\n",
        "        self.row_count = x.shape[0]\n",
        "        self.idxs = np.array(range(self.row_count))\n",
        "        self.category_count = x.shape[1]\n",
        "        self.val = np.mean(y.values[self.idxs])\n",
        "        self.score = float('inf')\n",
        "\n",
        "        self.left_decision_tree = None\n",
        "        self.right_decision_tree = None\n",
        "        self.splitting_category_id = None\n",
        "        self.split_val = None\n",
        "\n",
        "        self.find_split_category()\n",
        "\n",
        "    def find_split_category(self):\n",
        "        for i in range(self.category_count):\n",
        "            self.check_category_for_split(i)\n",
        "\n",
        "        if self.is_leaf:\n",
        "            return\n",
        "\n",
        "        x = self.split_col\n",
        "\n",
        "        lhs = np.nonzero(x <= self.split_val)[0]\n",
        "        rhs = np.nonzero(x > self.split_val)[0]\n",
        "\n",
        "        self.left_decision_tree = DecisionTree(\n",
        "            self.x.iloc[lhs], self.y.iloc[lhs], self.min_leaf)\n",
        "        self.right_decision_tree = DecisionTree(\n",
        "            self.x.iloc[rhs], self.y.iloc[rhs], self.min_leaf)\n",
        "\n",
        "    def check_category_for_split(self, category_id):\n",
        "        x = self.x.values[self.idxs, category_id]\n",
        "        y = self.y.values[self.idxs]\n",
        "\n",
        "        sorted_idx = np.argsort(x)\n",
        "        sorted_x = x[sorted_idx]\n",
        "        sorted_y = y[sorted_idx]\n",
        "\n",
        "        # Standard deviation criterion specific\n",
        "        # TODO Refactor code and create other criterion\n",
        "\n",
        "        rhs_count = self.row_count\n",
        "        rhs_sum = sorted_y.sum()\n",
        "        rhs_square_sum = (sorted_y ** 2).sum()\n",
        "\n",
        "        lhs_count = 0\n",
        "        lhs_sum = 0.0\n",
        "        lhs_square_sum = 0.0\n",
        "\n",
        "        for i in range(0, self.row_count - self.min_leaf):\n",
        "            x_i = sorted_x[i]\n",
        "            y_i = sorted_y[i]\n",
        "\n",
        "            lhs_count += 1\n",
        "            rhs_count -= 1\n",
        "\n",
        "            lhs_sum += y_i\n",
        "            rhs_sum -= y_i\n",
        "\n",
        "            lhs_square_sum += y_i ** 2\n",
        "            rhs_square_sum -= y_i ** 2\n",
        "\n",
        "            if i < self.min_leaf - 1 or x_i == sorted_x[i + 1]:\n",
        "                continue\n",
        "\n",
        "            lhs_std = self.std_deviation_score(\n",
        "                lhs_count, lhs_sum, lhs_square_sum)\n",
        "            rhs_std = self.std_deviation_score(\n",
        "                rhs_count, rhs_sum, rhs_square_sum)\n",
        "            curr_score = lhs_std * lhs_count + rhs_std * rhs_count\n",
        "\n",
        "            if curr_score < self.score:\n",
        "                self.splitting_category_id = category_id\n",
        "                self.score = curr_score\n",
        "                self.split_val = x_i\n",
        "\n",
        "    def std_deviation_score(self, count, sum_val, square_sum):\n",
        "        return math.sqrt((square_sum / count) - (sum_val / count) ** 2)\n",
        "\n",
        "    @property\n",
        "    def split_name(self):\n",
        "        return self.x.columns[self.splitting_category_id]\n",
        "\n",
        "    @property\n",
        "    def split_col(self):\n",
        "        return self.x.values[self.idxs, self.splitting_category_id]\n",
        "\n",
        "    @property\n",
        "    def is_leaf(self):\n",
        "        return self.score == float('inf')\n",
        "\n",
        "    def predict(self, x):\n",
        "        rows = [self.predict_row(x_i[1]) for x_i in x.iterrows()]\n",
        "        return np.array(rows)\n",
        "\n",
        "    def predict_row(self, x_i):\n",
        "        if self.is_leaf:\n",
        "            return self.val\n",
        "\n",
        "        if x_i[self.splitting_category_id] <= self.split_val:\n",
        "            return self.left_decision_tree.predict_row(x_i)\n",
        "        else:\n",
        "            return self.right_decision_tree.predict_row(x_i)"
      ],
      "metadata": {
        "id": "vOEgB80Mh5nw"
      },
      "execution_count": null,
      "outputs": []
    },
    {
      "cell_type": "code",
      "source": [
        "import numpy as np\n",
        "import pandas as pd\n",
        "class RandomForest():\n",
        "    def __init__(self, n_estimators, sample_size, min_leaf=1):\n",
        "        self.n_estimators = n_estimators\n",
        "        self.sample_size = sample_size\n",
        "        self.min_leaf = min_leaf\n",
        "        self.trees = None\n",
        "\n",
        "    def create_tree(self, x, y):\n",
        "        idxs = np.random.randint(len(y), size=self.sample_size)\n",
        "        return DecisionTree(x.iloc[idxs], y.iloc[idxs], self.min_leaf)\n",
        "\n",
        "    def fit(self, x, y):\n",
        "        self.trees = None\n",
        "        self.trees = [self.create_tree(x, y) for i in range(self.n_estimators)]\n",
        "\n",
        "    def predict(self, x):\n",
        "        tree_predictions = [tree.predict(x) for tree in self.trees]\n",
        "        prediction = np.mean(tree_predictions, axis=0)\n",
        "        return prediction"
      ],
      "metadata": {
        "id": "jJ7Hxfwk1Zyf"
      },
      "execution_count": null,
      "outputs": []
    },
    {
      "cell_type": "code",
      "source": [
        "model_rf = RandomForest(n_estimators=10, sample_size=X_train.shape[0])\n",
        "model_rf.fit(X_train, y_train)\n",
        "pred_rf = model_rf.predict(X_test)"
      ],
      "metadata": {
        "id": "2_-JNQKh1ueA"
      },
      "execution_count": null,
      "outputs": []
    },
    {
      "cell_type": "code",
      "source": [
        "Acc_rf = r2_score(y_test, pred_rf)\n",
        "print(\"Accuracy:\",round(Acc_rf,2))"
      ],
      "metadata": {
        "id": "BBow3gee2r-c",
        "colab": {
          "base_uri": "https://localhost:8080/"
        },
        "outputId": "7b4b4bb1-b868-48b7-8c89-125ce244ea43"
      },
      "execution_count": null,
      "outputs": [
        {
          "output_type": "stream",
          "name": "stdout",
          "text": [
            "Accuracy: 0.9\n"
          ]
        }
      ]
    },
    {
      "cell_type": "markdown",
      "source": [
        "**Sci-Kit Learn Random Forest Regressor**"
      ],
      "metadata": {
        "id": "JtWELZKK2-bK"
      }
    },
    {
      "cell_type": "code",
      "source": [
        "from sklearn.ensemble import RandomForestRegressor\n",
        "model_irf = RandomForestRegressor(n_estimators=10)\n",
        "model_irf.fit(X_train,y_train)\n",
        "pred_irf = model_irf.predict(X_test)"
      ],
      "metadata": {
        "id": "fZcJGKH23Sei"
      },
      "execution_count": null,
      "outputs": []
    },
    {
      "cell_type": "code",
      "source": [
        "Acc_irf = r2_score(y_test, pred_irf)\n",
        "print(\"Accuracy:\",round(Acc_irf,2))"
      ],
      "metadata": {
        "colab": {
          "base_uri": "https://localhost:8080/"
        },
        "id": "V3NNhOoe4aoK",
        "outputId": "844ba6c7-17b4-4298-9761-10d58c747937"
      },
      "execution_count": null,
      "outputs": [
        {
          "output_type": "stream",
          "name": "stdout",
          "text": [
            "Accuracy: 0.9\n"
          ]
        }
      ]
    },
    {
      "cell_type": "markdown",
      "source": [
        "Comparing the values of inbuilt and our implementation"
      ],
      "metadata": {
        "id": "qJ5IaA9k5ah4"
      }
    },
    {
      "cell_type": "code",
      "source": [
        "finalData_dt_rf = pd.DataFrame({'Actual': y_test, 'Predicted_Inbuilt': pred_irf, 'Our_Implementation': pred_rf})\n",
        "finalData_dt_rf.head()"
      ],
      "metadata": {
        "colab": {
          "base_uri": "https://localhost:8080/",
          "height": 206
        },
        "id": "hrgO3JI445Rc",
        "outputId": "289f46a5-e001-4ad6-9596-15ad0234efea"
      },
      "execution_count": null,
      "outputs": [
        {
          "output_type": "execute_result",
          "data": {
            "text/plain": [
              "      Actual  Predicted_Inbuilt  Our_Implementation\n",
              "5057    1967             2451.6              2051.5\n",
              "6378    2928             3062.4              3074.9\n",
              "2152     959              959.0               959.0\n",
              "2365    2073             2024.0              2038.8\n",
              "3971    2678             2555.6              2411.5"
            ],
            "text/html": [
              "\n",
              "  <div id=\"df-09a3c972-7eb1-4197-9b1d-bb1f6986a30c\">\n",
              "    <div class=\"colab-df-container\">\n",
              "      <div>\n",
              "<style scoped>\n",
              "    .dataframe tbody tr th:only-of-type {\n",
              "        vertical-align: middle;\n",
              "    }\n",
              "\n",
              "    .dataframe tbody tr th {\n",
              "        vertical-align: top;\n",
              "    }\n",
              "\n",
              "    .dataframe thead th {\n",
              "        text-align: right;\n",
              "    }\n",
              "</style>\n",
              "<table border=\"1\" class=\"dataframe\">\n",
              "  <thead>\n",
              "    <tr style=\"text-align: right;\">\n",
              "      <th></th>\n",
              "      <th>Actual</th>\n",
              "      <th>Predicted_Inbuilt</th>\n",
              "      <th>Our_Implementation</th>\n",
              "    </tr>\n",
              "  </thead>\n",
              "  <tbody>\n",
              "    <tr>\n",
              "      <th>5057</th>\n",
              "      <td>1967</td>\n",
              "      <td>2451.6</td>\n",
              "      <td>2051.5</td>\n",
              "    </tr>\n",
              "    <tr>\n",
              "      <th>6378</th>\n",
              "      <td>2928</td>\n",
              "      <td>3062.4</td>\n",
              "      <td>3074.9</td>\n",
              "    </tr>\n",
              "    <tr>\n",
              "      <th>2152</th>\n",
              "      <td>959</td>\n",
              "      <td>959.0</td>\n",
              "      <td>959.0</td>\n",
              "    </tr>\n",
              "    <tr>\n",
              "      <th>2365</th>\n",
              "      <td>2073</td>\n",
              "      <td>2024.0</td>\n",
              "      <td>2038.8</td>\n",
              "    </tr>\n",
              "    <tr>\n",
              "      <th>3971</th>\n",
              "      <td>2678</td>\n",
              "      <td>2555.6</td>\n",
              "      <td>2411.5</td>\n",
              "    </tr>\n",
              "  </tbody>\n",
              "</table>\n",
              "</div>\n",
              "      <button class=\"colab-df-convert\" onclick=\"convertToInteractive('df-09a3c972-7eb1-4197-9b1d-bb1f6986a30c')\"\n",
              "              title=\"Convert this dataframe to an interactive table.\"\n",
              "              style=\"display:none;\">\n",
              "        \n",
              "  <svg xmlns=\"http://www.w3.org/2000/svg\" height=\"24px\"viewBox=\"0 0 24 24\"\n",
              "       width=\"24px\">\n",
              "    <path d=\"M0 0h24v24H0V0z\" fill=\"none\"/>\n",
              "    <path d=\"M18.56 5.44l.94 2.06.94-2.06 2.06-.94-2.06-.94-.94-2.06-.94 2.06-2.06.94zm-11 1L8.5 8.5l.94-2.06 2.06-.94-2.06-.94L8.5 2.5l-.94 2.06-2.06.94zm10 10l.94 2.06.94-2.06 2.06-.94-2.06-.94-.94-2.06-.94 2.06-2.06.94z\"/><path d=\"M17.41 7.96l-1.37-1.37c-.4-.4-.92-.59-1.43-.59-.52 0-1.04.2-1.43.59L10.3 9.45l-7.72 7.72c-.78.78-.78 2.05 0 2.83L4 21.41c.39.39.9.59 1.41.59.51 0 1.02-.2 1.41-.59l7.78-7.78 2.81-2.81c.8-.78.8-2.07 0-2.86zM5.41 20L4 18.59l7.72-7.72 1.47 1.35L5.41 20z\"/>\n",
              "  </svg>\n",
              "      </button>\n",
              "      \n",
              "  <style>\n",
              "    .colab-df-container {\n",
              "      display:flex;\n",
              "      flex-wrap:wrap;\n",
              "      gap: 12px;\n",
              "    }\n",
              "\n",
              "    .colab-df-convert {\n",
              "      background-color: #E8F0FE;\n",
              "      border: none;\n",
              "      border-radius: 50%;\n",
              "      cursor: pointer;\n",
              "      display: none;\n",
              "      fill: #1967D2;\n",
              "      height: 32px;\n",
              "      padding: 0 0 0 0;\n",
              "      width: 32px;\n",
              "    }\n",
              "\n",
              "    .colab-df-convert:hover {\n",
              "      background-color: #E2EBFA;\n",
              "      box-shadow: 0px 1px 2px rgba(60, 64, 67, 0.3), 0px 1px 3px 1px rgba(60, 64, 67, 0.15);\n",
              "      fill: #174EA6;\n",
              "    }\n",
              "\n",
              "    [theme=dark] .colab-df-convert {\n",
              "      background-color: #3B4455;\n",
              "      fill: #D2E3FC;\n",
              "    }\n",
              "\n",
              "    [theme=dark] .colab-df-convert:hover {\n",
              "      background-color: #434B5C;\n",
              "      box-shadow: 0px 1px 3px 1px rgba(0, 0, 0, 0.15);\n",
              "      filter: drop-shadow(0px 1px 2px rgba(0, 0, 0, 0.3));\n",
              "      fill: #FFFFFF;\n",
              "    }\n",
              "  </style>\n",
              "\n",
              "      <script>\n",
              "        const buttonEl =\n",
              "          document.querySelector('#df-09a3c972-7eb1-4197-9b1d-bb1f6986a30c button.colab-df-convert');\n",
              "        buttonEl.style.display =\n",
              "          google.colab.kernel.accessAllowed ? 'block' : 'none';\n",
              "\n",
              "        async function convertToInteractive(key) {\n",
              "          const element = document.querySelector('#df-09a3c972-7eb1-4197-9b1d-bb1f6986a30c');\n",
              "          const dataTable =\n",
              "            await google.colab.kernel.invokeFunction('convertToInteractive',\n",
              "                                                     [key], {});\n",
              "          if (!dataTable) return;\n",
              "\n",
              "          const docLinkHtml = 'Like what you see? Visit the ' +\n",
              "            '<a target=\"_blank\" href=https://colab.research.google.com/notebooks/data_table.ipynb>data table notebook</a>'\n",
              "            + ' to learn more about interactive tables.';\n",
              "          element.innerHTML = '';\n",
              "          dataTable['output_type'] = 'display_data';\n",
              "          await google.colab.output.renderOutput(dataTable, element);\n",
              "          const docLink = document.createElement('div');\n",
              "          docLink.innerHTML = docLinkHtml;\n",
              "          element.appendChild(docLink);\n",
              "        }\n",
              "      </script>\n",
              "    </div>\n",
              "  </div>\n",
              "  "
            ]
          },
          "metadata": {},
          "execution_count": 122
        }
      ]
    },
    {
      "cell_type": "markdown",
      "source": [
        "### **LASSO Regression**"
      ],
      "metadata": {
        "id": "wkhqu1xF5cFR"
      }
    },
    {
      "cell_type": "markdown",
      "source": [
        "**Our Implementation**"
      ],
      "metadata": {
        "id": "dsh872_d5gYP"
      }
    },
    {
      "cell_type": "code",
      "source": [
        "class LassoRegression() :\n",
        "      \n",
        "    def __init__( self, learning_rate, iterations, l1_penality ) :          \n",
        "        self.learning_rate = learning_rate          \n",
        "        self.iterations = iterations          \n",
        "        self.l1_penality = l1_penality\n",
        "           \n",
        "    def fit( self, X, Y ) :\n",
        "     \n",
        "        self.m, self.n = X.shape     \n",
        "        self.W = np.zeros( self.n )          \n",
        "        self.b = 0          \n",
        "        self.X = X         \n",
        "        self.Y = Y\n",
        "\n",
        "        for i in range( self.iterations ) :              \n",
        "            self.update_weights()              \n",
        "        return self\n",
        "   \n",
        "    def update_weights( self ) :             \n",
        "        Y_pred = self.predict( self.X )       \n",
        "        dW = np.zeros( self.n )          \n",
        "        for j in range( self.n ) :             \n",
        "            if self.W[j] > 0 :                  \n",
        "                dW[j] = ( - ( 2 * ( self.X[:, j] ).dot( self.Y - Y_pred ) ) + self.l1_penality ) / self.m          \n",
        "            else :\n",
        "                  \n",
        "                dW[j] = ( - ( 2 * ( self.X[:, j] ).dot( self.Y - Y_pred ) ) - self.l1_penality ) / self.m\n",
        "  \n",
        "       \n",
        "        db = - 2 * np.sum( self.Y - Y_pred ) / self.m \n",
        "        self.W = self.W - self.learning_rate * dW      \n",
        "        self.b = self.b - self.learning_rate * db          \n",
        "        return self\n",
        "\n",
        "    def predict( self, X ) :      \n",
        "        return X.dot( self.W ) + self.b"
      ],
      "metadata": {
        "id": "QEgNR2DA5fwd"
      },
      "execution_count": null,
      "outputs": []
    },
    {
      "cell_type": "code",
      "source": [
        "model_Lr = LassoRegression( iterations = 1000, learning_rate = 0.01, l1_penality = 500 )\n",
        "model_Lr.fit(X_train_std,y_train)\n",
        "pred_Lr = model_Lr.predict(X_test_std)"
      ],
      "metadata": {
        "id": "i37GEdp_6U4a"
      },
      "execution_count": null,
      "outputs": []
    },
    {
      "cell_type": "code",
      "source": [
        "Acc_Lr = r2_score(y_test,pred_Lr)\n",
        "print(\"Accuracy:\",round(Acc_Lr,2))"
      ],
      "metadata": {
        "colab": {
          "base_uri": "https://localhost:8080/"
        },
        "id": "vhieYgRx6lxQ",
        "outputId": "0e59d140-e97f-43bd-d4a2-3ab1bb8eb90f"
      },
      "execution_count": null,
      "outputs": [
        {
          "output_type": "stream",
          "name": "stdout",
          "text": [
            "Accuracy: 0.48\n"
          ]
        }
      ]
    },
    {
      "cell_type": "markdown",
      "source": [
        "**Sci-Kit Learn LASSO Regression**"
      ],
      "metadata": {
        "id": "o9Z9U5PY7TWA"
      }
    },
    {
      "cell_type": "code",
      "source": [
        "from sklearn.linear_model import Lasso\n",
        "model_iLr = Lasso()\n",
        "model_iLr.fit(X_train_std,y_train)\n",
        "pred_iLr = model_iLr.predict(X_test_std)"
      ],
      "metadata": {
        "id": "Yz6wClar7XN-"
      },
      "execution_count": null,
      "outputs": []
    },
    {
      "cell_type": "code",
      "source": [
        "Acc_iLr = r2_score(y_test,pred_iLr)\n",
        "print(\"Accuracy:\",round(Acc_iLr,2))"
      ],
      "metadata": {
        "colab": {
          "base_uri": "https://localhost:8080/"
        },
        "id": "hdzgRvbW9cKV",
        "outputId": "dda2d67e-1910-49e2-bde4-0bec1d692f04"
      },
      "execution_count": null,
      "outputs": [
        {
          "output_type": "stream",
          "name": "stdout",
          "text": [
            "Accuracy: 0.48\n"
          ]
        }
      ]
    },
    {
      "cell_type": "markdown",
      "source": [
        "Comparing the values of inbuilt and our implementation"
      ],
      "metadata": {
        "id": "eC_fbqeA9wh4"
      }
    },
    {
      "cell_type": "code",
      "source": [
        "finalData_dt_Lr = pd.DataFrame({'Actual': y_test, 'Predicted_Inbuilt': pred_iLr,'Our_Implementation': pred_Lr})\n",
        "finalData_dt_Lr.head()"
      ],
      "metadata": {
        "colab": {
          "base_uri": "https://localhost:8080/",
          "height": 206
        },
        "id": "elfqggNF9o6h",
        "outputId": "b58d2d9a-38e5-4e4e-b981-38691cdb2069"
      },
      "execution_count": null,
      "outputs": [
        {
          "output_type": "execute_result",
          "data": {
            "text/plain": [
              "      Actual  Predicted_Inbuilt  Our_Implementation\n",
              "5057    1967         895.301976          897.486393\n",
              "6378    2928        2781.651505         2774.638403\n",
              "2152     959        1666.927250         1664.532444\n",
              "2365    2073        2436.970027         2433.072606\n",
              "3971    2678        2405.007246         2400.409114"
            ],
            "text/html": [
              "\n",
              "  <div id=\"df-f89d854f-3021-4ceb-9678-4cd21e5ffed1\">\n",
              "    <div class=\"colab-df-container\">\n",
              "      <div>\n",
              "<style scoped>\n",
              "    .dataframe tbody tr th:only-of-type {\n",
              "        vertical-align: middle;\n",
              "    }\n",
              "\n",
              "    .dataframe tbody tr th {\n",
              "        vertical-align: top;\n",
              "    }\n",
              "\n",
              "    .dataframe thead th {\n",
              "        text-align: right;\n",
              "    }\n",
              "</style>\n",
              "<table border=\"1\" class=\"dataframe\">\n",
              "  <thead>\n",
              "    <tr style=\"text-align: right;\">\n",
              "      <th></th>\n",
              "      <th>Actual</th>\n",
              "      <th>Predicted_Inbuilt</th>\n",
              "      <th>Our_Implementation</th>\n",
              "    </tr>\n",
              "  </thead>\n",
              "  <tbody>\n",
              "    <tr>\n",
              "      <th>5057</th>\n",
              "      <td>1967</td>\n",
              "      <td>895.301976</td>\n",
              "      <td>897.486393</td>\n",
              "    </tr>\n",
              "    <tr>\n",
              "      <th>6378</th>\n",
              "      <td>2928</td>\n",
              "      <td>2781.651505</td>\n",
              "      <td>2774.638403</td>\n",
              "    </tr>\n",
              "    <tr>\n",
              "      <th>2152</th>\n",
              "      <td>959</td>\n",
              "      <td>1666.927250</td>\n",
              "      <td>1664.532444</td>\n",
              "    </tr>\n",
              "    <tr>\n",
              "      <th>2365</th>\n",
              "      <td>2073</td>\n",
              "      <td>2436.970027</td>\n",
              "      <td>2433.072606</td>\n",
              "    </tr>\n",
              "    <tr>\n",
              "      <th>3971</th>\n",
              "      <td>2678</td>\n",
              "      <td>2405.007246</td>\n",
              "      <td>2400.409114</td>\n",
              "    </tr>\n",
              "  </tbody>\n",
              "</table>\n",
              "</div>\n",
              "      <button class=\"colab-df-convert\" onclick=\"convertToInteractive('df-f89d854f-3021-4ceb-9678-4cd21e5ffed1')\"\n",
              "              title=\"Convert this dataframe to an interactive table.\"\n",
              "              style=\"display:none;\">\n",
              "        \n",
              "  <svg xmlns=\"http://www.w3.org/2000/svg\" height=\"24px\"viewBox=\"0 0 24 24\"\n",
              "       width=\"24px\">\n",
              "    <path d=\"M0 0h24v24H0V0z\" fill=\"none\"/>\n",
              "    <path d=\"M18.56 5.44l.94 2.06.94-2.06 2.06-.94-2.06-.94-.94-2.06-.94 2.06-2.06.94zm-11 1L8.5 8.5l.94-2.06 2.06-.94-2.06-.94L8.5 2.5l-.94 2.06-2.06.94zm10 10l.94 2.06.94-2.06 2.06-.94-2.06-.94-.94-2.06-.94 2.06-2.06.94z\"/><path d=\"M17.41 7.96l-1.37-1.37c-.4-.4-.92-.59-1.43-.59-.52 0-1.04.2-1.43.59L10.3 9.45l-7.72 7.72c-.78.78-.78 2.05 0 2.83L4 21.41c.39.39.9.59 1.41.59.51 0 1.02-.2 1.41-.59l7.78-7.78 2.81-2.81c.8-.78.8-2.07 0-2.86zM5.41 20L4 18.59l7.72-7.72 1.47 1.35L5.41 20z\"/>\n",
              "  </svg>\n",
              "      </button>\n",
              "      \n",
              "  <style>\n",
              "    .colab-df-container {\n",
              "      display:flex;\n",
              "      flex-wrap:wrap;\n",
              "      gap: 12px;\n",
              "    }\n",
              "\n",
              "    .colab-df-convert {\n",
              "      background-color: #E8F0FE;\n",
              "      border: none;\n",
              "      border-radius: 50%;\n",
              "      cursor: pointer;\n",
              "      display: none;\n",
              "      fill: #1967D2;\n",
              "      height: 32px;\n",
              "      padding: 0 0 0 0;\n",
              "      width: 32px;\n",
              "    }\n",
              "\n",
              "    .colab-df-convert:hover {\n",
              "      background-color: #E2EBFA;\n",
              "      box-shadow: 0px 1px 2px rgba(60, 64, 67, 0.3), 0px 1px 3px 1px rgba(60, 64, 67, 0.15);\n",
              "      fill: #174EA6;\n",
              "    }\n",
              "\n",
              "    [theme=dark] .colab-df-convert {\n",
              "      background-color: #3B4455;\n",
              "      fill: #D2E3FC;\n",
              "    }\n",
              "\n",
              "    [theme=dark] .colab-df-convert:hover {\n",
              "      background-color: #434B5C;\n",
              "      box-shadow: 0px 1px 3px 1px rgba(0, 0, 0, 0.15);\n",
              "      filter: drop-shadow(0px 1px 2px rgba(0, 0, 0, 0.3));\n",
              "      fill: #FFFFFF;\n",
              "    }\n",
              "  </style>\n",
              "\n",
              "      <script>\n",
              "        const buttonEl =\n",
              "          document.querySelector('#df-f89d854f-3021-4ceb-9678-4cd21e5ffed1 button.colab-df-convert');\n",
              "        buttonEl.style.display =\n",
              "          google.colab.kernel.accessAllowed ? 'block' : 'none';\n",
              "\n",
              "        async function convertToInteractive(key) {\n",
              "          const element = document.querySelector('#df-f89d854f-3021-4ceb-9678-4cd21e5ffed1');\n",
              "          const dataTable =\n",
              "            await google.colab.kernel.invokeFunction('convertToInteractive',\n",
              "                                                     [key], {});\n",
              "          if (!dataTable) return;\n",
              "\n",
              "          const docLinkHtml = 'Like what you see? Visit the ' +\n",
              "            '<a target=\"_blank\" href=https://colab.research.google.com/notebooks/data_table.ipynb>data table notebook</a>'\n",
              "            + ' to learn more about interactive tables.';\n",
              "          element.innerHTML = '';\n",
              "          dataTable['output_type'] = 'display_data';\n",
              "          await google.colab.output.renderOutput(dataTable, element);\n",
              "          const docLink = document.createElement('div');\n",
              "          docLink.innerHTML = docLinkHtml;\n",
              "          element.appendChild(docLink);\n",
              "        }\n",
              "      </script>\n",
              "    </div>\n",
              "  </div>\n",
              "  "
            ]
          },
          "metadata": {},
          "execution_count": 134
        }
      ]
    },
    {
      "cell_type": "markdown",
      "source": [
        "### **Ridge Regression**"
      ],
      "metadata": {
        "id": "dKvPxKVO91OC"
      }
    },
    {
      "cell_type": "markdown",
      "source": [
        "**Our Implementation**"
      ],
      "metadata": {
        "id": "RehGHTM0-LAA"
      }
    },
    {
      "cell_type": "code",
      "source": [
        "class RidgeRegression() :\n",
        "      \n",
        "    def __init__( self, learning_rate, iterations, l2_penality ) :\n",
        "          \n",
        "        self.learning_rate = learning_rate        \n",
        "        self.iterations = iterations        \n",
        "        self.l2_penality = l2_penality\n",
        "          \n",
        "    # Function for model training            \n",
        "    def fit( self, X, Y ) :\n",
        "          \n",
        "        # no_of_training_examples, no_of_features        \n",
        "        self.m, self.n = X.shape\n",
        "          \n",
        "        # weight initialization        \n",
        "        self.W = np.zeros( self.n )\n",
        "          \n",
        "        self.b = 0        \n",
        "        self.X = X        \n",
        "        self.Y = Y\n",
        "          \n",
        "        # gradient descent learning\n",
        "                  \n",
        "        for i in range( self.iterations ) :            \n",
        "            self.update_weights()            \n",
        "        return self\n",
        "      \n",
        "    # Helper function to update weights in gradient descent\n",
        "      \n",
        "    def update_weights( self ) :           \n",
        "        Y_pred = self.predict( self.X )\n",
        "          \n",
        "        # calculate gradients      \n",
        "        dW = ( - ( 2 * ( self.X.T ).dot( self.Y - Y_pred ) ) +               \n",
        "               ( 2 * self.l2_penality * self.W ) ) / self.m     \n",
        "        db = - 2 * np.sum( self.Y - Y_pred ) / self.m \n",
        "          \n",
        "        # update weights    \n",
        "        self.W = self.W - self.learning_rate * dW    \n",
        "        self.b = self.b - self.learning_rate * db        \n",
        "        return self\n",
        "      \n",
        "    # Hypothetical function  h( x ) \n",
        "    def predict( self, X ) :    \n",
        "        return X.dot( self.W ) + self.b"
      ],
      "metadata": {
        "id": "hWRq4UfAA_3a"
      },
      "execution_count": null,
      "outputs": []
    },
    {
      "cell_type": "code",
      "source": [
        "model_rr = RidgeRegression(iterations = 1000,learning_rate = 0.01, l2_penality = 1)\n",
        "model_rr.fit(X_train_std,y_train)\n",
        "pred_rr = model_rr.predict(X_test_std)"
      ],
      "metadata": {
        "id": "dZGhG0Qu_MCo"
      },
      "execution_count": null,
      "outputs": []
    },
    {
      "cell_type": "code",
      "source": [
        "Acc_rr = r2_score(y_test,pred_rr)\n",
        "print(\"Accuracy:\",round(Acc_rr,2))"
      ],
      "metadata": {
        "colab": {
          "base_uri": "https://localhost:8080/"
        },
        "id": "XidR_7xPBbM7",
        "outputId": "9773d108-cec9-4f17-8850-e921749e343e"
      },
      "execution_count": null,
      "outputs": [
        {
          "output_type": "stream",
          "name": "stdout",
          "text": [
            "Accuracy: 0.48\n"
          ]
        }
      ]
    },
    {
      "cell_type": "markdown",
      "source": [
        "**Sci-Kit Learn Ridge Regression**"
      ],
      "metadata": {
        "id": "pkXKZ34JBtRi"
      }
    },
    {
      "cell_type": "code",
      "source": [
        "from sklearn.linear_model import Ridge\n",
        "model_irr = Ridge()\n",
        "model_irr.fit(X_train_std,y_train)\n",
        "pred_irr = model_irr.predict(X_test_std)"
      ],
      "metadata": {
        "id": "37L2bMcXBrrC"
      },
      "execution_count": null,
      "outputs": []
    },
    {
      "cell_type": "code",
      "source": [
        "Acc_irr = r2_score(y_test,pred_irr)\n",
        "print(\"Accuracy:\",round(Acc_irr,2))"
      ],
      "metadata": {
        "colab": {
          "base_uri": "https://localhost:8080/"
        },
        "id": "f6mrWJKnCJVY",
        "outputId": "a9167a9c-b867-43c2-e424-373a70d4abb5"
      },
      "execution_count": null,
      "outputs": [
        {
          "output_type": "stream",
          "name": "stdout",
          "text": [
            "Accuracy: 0.48\n"
          ]
        }
      ]
    },
    {
      "cell_type": "code",
      "source": [
        "finalData_dt_rr = pd.DataFrame({'Actual': y_test, 'Predicted_Inbuilt': pred_irr,'Our_Implementation': pred_rr})\n",
        "finalData_dt_rr.head()"
      ],
      "metadata": {
        "colab": {
          "base_uri": "https://localhost:8080/",
          "height": 206
        },
        "id": "7uJzt1unDM3S",
        "outputId": "784b0a1d-fb84-47c1-bfaf-3a452a54035e"
      },
      "execution_count": null,
      "outputs": [
        {
          "output_type": "execute_result",
          "data": {
            "text/plain": [
              "      Actual  Predicted_Inbuilt  Our_Implementation\n",
              "5057    1967         898.061341          898.168818\n",
              "6378    2928        2774.029144         2773.987615\n",
              "2152     959        1664.532232         1664.559490\n",
              "2365    2073        2432.801222         2432.796504\n",
              "3971    2678        2400.087477         2400.109319"
            ],
            "text/html": [
              "\n",
              "  <div id=\"df-364e537c-bb3d-45b8-a257-8206d2d01415\">\n",
              "    <div class=\"colab-df-container\">\n",
              "      <div>\n",
              "<style scoped>\n",
              "    .dataframe tbody tr th:only-of-type {\n",
              "        vertical-align: middle;\n",
              "    }\n",
              "\n",
              "    .dataframe tbody tr th {\n",
              "        vertical-align: top;\n",
              "    }\n",
              "\n",
              "    .dataframe thead th {\n",
              "        text-align: right;\n",
              "    }\n",
              "</style>\n",
              "<table border=\"1\" class=\"dataframe\">\n",
              "  <thead>\n",
              "    <tr style=\"text-align: right;\">\n",
              "      <th></th>\n",
              "      <th>Actual</th>\n",
              "      <th>Predicted_Inbuilt</th>\n",
              "      <th>Our_Implementation</th>\n",
              "    </tr>\n",
              "  </thead>\n",
              "  <tbody>\n",
              "    <tr>\n",
              "      <th>5057</th>\n",
              "      <td>1967</td>\n",
              "      <td>898.061341</td>\n",
              "      <td>898.168818</td>\n",
              "    </tr>\n",
              "    <tr>\n",
              "      <th>6378</th>\n",
              "      <td>2928</td>\n",
              "      <td>2774.029144</td>\n",
              "      <td>2773.987615</td>\n",
              "    </tr>\n",
              "    <tr>\n",
              "      <th>2152</th>\n",
              "      <td>959</td>\n",
              "      <td>1664.532232</td>\n",
              "      <td>1664.559490</td>\n",
              "    </tr>\n",
              "    <tr>\n",
              "      <th>2365</th>\n",
              "      <td>2073</td>\n",
              "      <td>2432.801222</td>\n",
              "      <td>2432.796504</td>\n",
              "    </tr>\n",
              "    <tr>\n",
              "      <th>3971</th>\n",
              "      <td>2678</td>\n",
              "      <td>2400.087477</td>\n",
              "      <td>2400.109319</td>\n",
              "    </tr>\n",
              "  </tbody>\n",
              "</table>\n",
              "</div>\n",
              "      <button class=\"colab-df-convert\" onclick=\"convertToInteractive('df-364e537c-bb3d-45b8-a257-8206d2d01415')\"\n",
              "              title=\"Convert this dataframe to an interactive table.\"\n",
              "              style=\"display:none;\">\n",
              "        \n",
              "  <svg xmlns=\"http://www.w3.org/2000/svg\" height=\"24px\"viewBox=\"0 0 24 24\"\n",
              "       width=\"24px\">\n",
              "    <path d=\"M0 0h24v24H0V0z\" fill=\"none\"/>\n",
              "    <path d=\"M18.56 5.44l.94 2.06.94-2.06 2.06-.94-2.06-.94-.94-2.06-.94 2.06-2.06.94zm-11 1L8.5 8.5l.94-2.06 2.06-.94-2.06-.94L8.5 2.5l-.94 2.06-2.06.94zm10 10l.94 2.06.94-2.06 2.06-.94-2.06-.94-.94-2.06-.94 2.06-2.06.94z\"/><path d=\"M17.41 7.96l-1.37-1.37c-.4-.4-.92-.59-1.43-.59-.52 0-1.04.2-1.43.59L10.3 9.45l-7.72 7.72c-.78.78-.78 2.05 0 2.83L4 21.41c.39.39.9.59 1.41.59.51 0 1.02-.2 1.41-.59l7.78-7.78 2.81-2.81c.8-.78.8-2.07 0-2.86zM5.41 20L4 18.59l7.72-7.72 1.47 1.35L5.41 20z\"/>\n",
              "  </svg>\n",
              "      </button>\n",
              "      \n",
              "  <style>\n",
              "    .colab-df-container {\n",
              "      display:flex;\n",
              "      flex-wrap:wrap;\n",
              "      gap: 12px;\n",
              "    }\n",
              "\n",
              "    .colab-df-convert {\n",
              "      background-color: #E8F0FE;\n",
              "      border: none;\n",
              "      border-radius: 50%;\n",
              "      cursor: pointer;\n",
              "      display: none;\n",
              "      fill: #1967D2;\n",
              "      height: 32px;\n",
              "      padding: 0 0 0 0;\n",
              "      width: 32px;\n",
              "    }\n",
              "\n",
              "    .colab-df-convert:hover {\n",
              "      background-color: #E2EBFA;\n",
              "      box-shadow: 0px 1px 2px rgba(60, 64, 67, 0.3), 0px 1px 3px 1px rgba(60, 64, 67, 0.15);\n",
              "      fill: #174EA6;\n",
              "    }\n",
              "\n",
              "    [theme=dark] .colab-df-convert {\n",
              "      background-color: #3B4455;\n",
              "      fill: #D2E3FC;\n",
              "    }\n",
              "\n",
              "    [theme=dark] .colab-df-convert:hover {\n",
              "      background-color: #434B5C;\n",
              "      box-shadow: 0px 1px 3px 1px rgba(0, 0, 0, 0.15);\n",
              "      filter: drop-shadow(0px 1px 2px rgba(0, 0, 0, 0.3));\n",
              "      fill: #FFFFFF;\n",
              "    }\n",
              "  </style>\n",
              "\n",
              "      <script>\n",
              "        const buttonEl =\n",
              "          document.querySelector('#df-364e537c-bb3d-45b8-a257-8206d2d01415 button.colab-df-convert');\n",
              "        buttonEl.style.display =\n",
              "          google.colab.kernel.accessAllowed ? 'block' : 'none';\n",
              "\n",
              "        async function convertToInteractive(key) {\n",
              "          const element = document.querySelector('#df-364e537c-bb3d-45b8-a257-8206d2d01415');\n",
              "          const dataTable =\n",
              "            await google.colab.kernel.invokeFunction('convertToInteractive',\n",
              "                                                     [key], {});\n",
              "          if (!dataTable) return;\n",
              "\n",
              "          const docLinkHtml = 'Like what you see? Visit the ' +\n",
              "            '<a target=\"_blank\" href=https://colab.research.google.com/notebooks/data_table.ipynb>data table notebook</a>'\n",
              "            + ' to learn more about interactive tables.';\n",
              "          element.innerHTML = '';\n",
              "          dataTable['output_type'] = 'display_data';\n",
              "          await google.colab.output.renderOutput(dataTable, element);\n",
              "          const docLink = document.createElement('div');\n",
              "          docLink.innerHTML = docLinkHtml;\n",
              "          element.appendChild(docLink);\n",
              "        }\n",
              "      </script>\n",
              "    </div>\n",
              "  </div>\n",
              "  "
            ]
          },
          "metadata": {},
          "execution_count": 143
        }
      ]
    }
  ]
}